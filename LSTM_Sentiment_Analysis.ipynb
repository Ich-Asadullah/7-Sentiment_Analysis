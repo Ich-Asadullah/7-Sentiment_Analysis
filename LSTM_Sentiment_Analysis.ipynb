{
  "cells": [
    {
      "cell_type": "markdown",
      "metadata": {
        "id": "k5326ym-1NYd"
      },
      "source": [
        "### Data Preprocessing\n",
        "You can use your own way of preprocessing to enhance results. Best results will lead to bonus points."
      ]
    },
    {
      "cell_type": "code",
      "execution_count": 15,
      "metadata": {
        "id": "h0-Dqeeb1NYh"
      },
      "outputs": [],
      "source": [
        "import pandas as pd\n",
        "import nltk\n",
        "import tensorflow as tf\n",
        "import torch\n",
        "import torch.nn as nn\n",
        "import numpy as np"
      ]
    },
    {
      "cell_type": "code",
      "execution_count": 2,
      "metadata": {
        "colab": {
          "base_uri": "https://localhost:8080/"
        },
        "id": "G_7GXeHM1o74",
        "outputId": "e38e5274-8d77-4607-81db-005eb877730d"
      },
      "outputs": [
        {
          "output_type": "stream",
          "name": "stdout",
          "text": [
            "Dataset URL: https://www.kaggle.com/datasets/lakshmi25npathi/imdb-dataset-of-50k-movie-reviews\n",
            "License(s): other\n",
            "Downloading imdb-dataset-of-50k-movie-reviews.zip to /content\n",
            " 89% 23.0M/25.7M [00:00<00:00, 27.2MB/s]\n",
            "100% 25.7M/25.7M [00:00<00:00, 27.5MB/s]\n"
          ]
        }
      ],
      "source": [
        "!kaggle datasets download -d lakshmi25npathi/imdb-dataset-of-50k-movie-reviews"
      ]
    },
    {
      "cell_type": "code",
      "execution_count": 3,
      "metadata": {
        "colab": {
          "base_uri": "https://localhost:8080/"
        },
        "id": "xXgT9k3f1rdu",
        "outputId": "88ba9063-00d2-4495-a4a7-667cf5f42cf1"
      },
      "outputs": [
        {
          "output_type": "stream",
          "name": "stdout",
          "text": [
            "Archive:  imdb-dataset-of-50k-movie-reviews.zip\n",
            "  inflating: IMDB Dataset.csv        \n"
          ]
        }
      ],
      "source": [
        "!unzip imdb-dataset-of-50k-movie-reviews.zip"
      ]
    },
    {
      "cell_type": "code",
      "execution_count": 16,
      "metadata": {
        "id": "PXw6mQBL1NYi"
      },
      "outputs": [],
      "source": [
        "reviews = pd.read_csv(\"/content/IMDB Dataset.csv\")"
      ]
    },
    {
      "cell_type": "code",
      "execution_count": 17,
      "metadata": {
        "colab": {
          "base_uri": "https://localhost:8080/",
          "height": 206
        },
        "id": "Oc6vrhsd10kW",
        "outputId": "670e6efe-e933-4c01-deec-7b6525757ed2"
      },
      "outputs": [
        {
          "output_type": "execute_result",
          "data": {
            "text/plain": [
              "                                              review sentiment\n",
              "0  One of the other reviewers has mentioned that ...  positive\n",
              "1  A wonderful little production. <br /><br />The...  positive\n",
              "2  I thought this was a wonderful way to spend ti...  positive\n",
              "3  Basically there's a family where a little boy ...  negative\n",
              "4  Petter Mattei's \"Love in the Time of Money\" is...  positive"
            ],
            "text/html": [
              "\n",
              "  <div id=\"df-bb19d504-659b-4444-96f7-84b4ff4bc9b1\" class=\"colab-df-container\">\n",
              "    <div>\n",
              "<style scoped>\n",
              "    .dataframe tbody tr th:only-of-type {\n",
              "        vertical-align: middle;\n",
              "    }\n",
              "\n",
              "    .dataframe tbody tr th {\n",
              "        vertical-align: top;\n",
              "    }\n",
              "\n",
              "    .dataframe thead th {\n",
              "        text-align: right;\n",
              "    }\n",
              "</style>\n",
              "<table border=\"1\" class=\"dataframe\">\n",
              "  <thead>\n",
              "    <tr style=\"text-align: right;\">\n",
              "      <th></th>\n",
              "      <th>review</th>\n",
              "      <th>sentiment</th>\n",
              "    </tr>\n",
              "  </thead>\n",
              "  <tbody>\n",
              "    <tr>\n",
              "      <th>0</th>\n",
              "      <td>One of the other reviewers has mentioned that ...</td>\n",
              "      <td>positive</td>\n",
              "    </tr>\n",
              "    <tr>\n",
              "      <th>1</th>\n",
              "      <td>A wonderful little production. &lt;br /&gt;&lt;br /&gt;The...</td>\n",
              "      <td>positive</td>\n",
              "    </tr>\n",
              "    <tr>\n",
              "      <th>2</th>\n",
              "      <td>I thought this was a wonderful way to spend ti...</td>\n",
              "      <td>positive</td>\n",
              "    </tr>\n",
              "    <tr>\n",
              "      <th>3</th>\n",
              "      <td>Basically there's a family where a little boy ...</td>\n",
              "      <td>negative</td>\n",
              "    </tr>\n",
              "    <tr>\n",
              "      <th>4</th>\n",
              "      <td>Petter Mattei's \"Love in the Time of Money\" is...</td>\n",
              "      <td>positive</td>\n",
              "    </tr>\n",
              "  </tbody>\n",
              "</table>\n",
              "</div>\n",
              "    <div class=\"colab-df-buttons\">\n",
              "\n",
              "  <div class=\"colab-df-container\">\n",
              "    <button class=\"colab-df-convert\" onclick=\"convertToInteractive('df-bb19d504-659b-4444-96f7-84b4ff4bc9b1')\"\n",
              "            title=\"Convert this dataframe to an interactive table.\"\n",
              "            style=\"display:none;\">\n",
              "\n",
              "  <svg xmlns=\"http://www.w3.org/2000/svg\" height=\"24px\" viewBox=\"0 -960 960 960\">\n",
              "    <path d=\"M120-120v-720h720v720H120Zm60-500h600v-160H180v160Zm220 220h160v-160H400v160Zm0 220h160v-160H400v160ZM180-400h160v-160H180v160Zm440 0h160v-160H620v160ZM180-180h160v-160H180v160Zm440 0h160v-160H620v160Z\"/>\n",
              "  </svg>\n",
              "    </button>\n",
              "\n",
              "  <style>\n",
              "    .colab-df-container {\n",
              "      display:flex;\n",
              "      gap: 12px;\n",
              "    }\n",
              "\n",
              "    .colab-df-convert {\n",
              "      background-color: #E8F0FE;\n",
              "      border: none;\n",
              "      border-radius: 50%;\n",
              "      cursor: pointer;\n",
              "      display: none;\n",
              "      fill: #1967D2;\n",
              "      height: 32px;\n",
              "      padding: 0 0 0 0;\n",
              "      width: 32px;\n",
              "    }\n",
              "\n",
              "    .colab-df-convert:hover {\n",
              "      background-color: #E2EBFA;\n",
              "      box-shadow: 0px 1px 2px rgba(60, 64, 67, 0.3), 0px 1px 3px 1px rgba(60, 64, 67, 0.15);\n",
              "      fill: #174EA6;\n",
              "    }\n",
              "\n",
              "    .colab-df-buttons div {\n",
              "      margin-bottom: 4px;\n",
              "    }\n",
              "\n",
              "    [theme=dark] .colab-df-convert {\n",
              "      background-color: #3B4455;\n",
              "      fill: #D2E3FC;\n",
              "    }\n",
              "\n",
              "    [theme=dark] .colab-df-convert:hover {\n",
              "      background-color: #434B5C;\n",
              "      box-shadow: 0px 1px 3px 1px rgba(0, 0, 0, 0.15);\n",
              "      filter: drop-shadow(0px 1px 2px rgba(0, 0, 0, 0.3));\n",
              "      fill: #FFFFFF;\n",
              "    }\n",
              "  </style>\n",
              "\n",
              "    <script>\n",
              "      const buttonEl =\n",
              "        document.querySelector('#df-bb19d504-659b-4444-96f7-84b4ff4bc9b1 button.colab-df-convert');\n",
              "      buttonEl.style.display =\n",
              "        google.colab.kernel.accessAllowed ? 'block' : 'none';\n",
              "\n",
              "      async function convertToInteractive(key) {\n",
              "        const element = document.querySelector('#df-bb19d504-659b-4444-96f7-84b4ff4bc9b1');\n",
              "        const dataTable =\n",
              "          await google.colab.kernel.invokeFunction('convertToInteractive',\n",
              "                                                    [key], {});\n",
              "        if (!dataTable) return;\n",
              "\n",
              "        const docLinkHtml = 'Like what you see? Visit the ' +\n",
              "          '<a target=\"_blank\" href=https://colab.research.google.com/notebooks/data_table.ipynb>data table notebook</a>'\n",
              "          + ' to learn more about interactive tables.';\n",
              "        element.innerHTML = '';\n",
              "        dataTable['output_type'] = 'display_data';\n",
              "        await google.colab.output.renderOutput(dataTable, element);\n",
              "        const docLink = document.createElement('div');\n",
              "        docLink.innerHTML = docLinkHtml;\n",
              "        element.appendChild(docLink);\n",
              "      }\n",
              "    </script>\n",
              "  </div>\n",
              "\n",
              "\n",
              "<div id=\"df-27311fb5-e98d-4803-85e5-d6eb5f51aa08\">\n",
              "  <button class=\"colab-df-quickchart\" onclick=\"quickchart('df-27311fb5-e98d-4803-85e5-d6eb5f51aa08')\"\n",
              "            title=\"Suggest charts\"\n",
              "            style=\"display:none;\">\n",
              "\n",
              "<svg xmlns=\"http://www.w3.org/2000/svg\" height=\"24px\"viewBox=\"0 0 24 24\"\n",
              "     width=\"24px\">\n",
              "    <g>\n",
              "        <path d=\"M19 3H5c-1.1 0-2 .9-2 2v14c0 1.1.9 2 2 2h14c1.1 0 2-.9 2-2V5c0-1.1-.9-2-2-2zM9 17H7v-7h2v7zm4 0h-2V7h2v10zm4 0h-2v-4h2v4z\"/>\n",
              "    </g>\n",
              "</svg>\n",
              "  </button>\n",
              "\n",
              "<style>\n",
              "  .colab-df-quickchart {\n",
              "      --bg-color: #E8F0FE;\n",
              "      --fill-color: #1967D2;\n",
              "      --hover-bg-color: #E2EBFA;\n",
              "      --hover-fill-color: #174EA6;\n",
              "      --disabled-fill-color: #AAA;\n",
              "      --disabled-bg-color: #DDD;\n",
              "  }\n",
              "\n",
              "  [theme=dark] .colab-df-quickchart {\n",
              "      --bg-color: #3B4455;\n",
              "      --fill-color: #D2E3FC;\n",
              "      --hover-bg-color: #434B5C;\n",
              "      --hover-fill-color: #FFFFFF;\n",
              "      --disabled-bg-color: #3B4455;\n",
              "      --disabled-fill-color: #666;\n",
              "  }\n",
              "\n",
              "  .colab-df-quickchart {\n",
              "    background-color: var(--bg-color);\n",
              "    border: none;\n",
              "    border-radius: 50%;\n",
              "    cursor: pointer;\n",
              "    display: none;\n",
              "    fill: var(--fill-color);\n",
              "    height: 32px;\n",
              "    padding: 0;\n",
              "    width: 32px;\n",
              "  }\n",
              "\n",
              "  .colab-df-quickchart:hover {\n",
              "    background-color: var(--hover-bg-color);\n",
              "    box-shadow: 0 1px 2px rgba(60, 64, 67, 0.3), 0 1px 3px 1px rgba(60, 64, 67, 0.15);\n",
              "    fill: var(--button-hover-fill-color);\n",
              "  }\n",
              "\n",
              "  .colab-df-quickchart-complete:disabled,\n",
              "  .colab-df-quickchart-complete:disabled:hover {\n",
              "    background-color: var(--disabled-bg-color);\n",
              "    fill: var(--disabled-fill-color);\n",
              "    box-shadow: none;\n",
              "  }\n",
              "\n",
              "  .colab-df-spinner {\n",
              "    border: 2px solid var(--fill-color);\n",
              "    border-color: transparent;\n",
              "    border-bottom-color: var(--fill-color);\n",
              "    animation:\n",
              "      spin 1s steps(1) infinite;\n",
              "  }\n",
              "\n",
              "  @keyframes spin {\n",
              "    0% {\n",
              "      border-color: transparent;\n",
              "      border-bottom-color: var(--fill-color);\n",
              "      border-left-color: var(--fill-color);\n",
              "    }\n",
              "    20% {\n",
              "      border-color: transparent;\n",
              "      border-left-color: var(--fill-color);\n",
              "      border-top-color: var(--fill-color);\n",
              "    }\n",
              "    30% {\n",
              "      border-color: transparent;\n",
              "      border-left-color: var(--fill-color);\n",
              "      border-top-color: var(--fill-color);\n",
              "      border-right-color: var(--fill-color);\n",
              "    }\n",
              "    40% {\n",
              "      border-color: transparent;\n",
              "      border-right-color: var(--fill-color);\n",
              "      border-top-color: var(--fill-color);\n",
              "    }\n",
              "    60% {\n",
              "      border-color: transparent;\n",
              "      border-right-color: var(--fill-color);\n",
              "    }\n",
              "    80% {\n",
              "      border-color: transparent;\n",
              "      border-right-color: var(--fill-color);\n",
              "      border-bottom-color: var(--fill-color);\n",
              "    }\n",
              "    90% {\n",
              "      border-color: transparent;\n",
              "      border-bottom-color: var(--fill-color);\n",
              "    }\n",
              "  }\n",
              "</style>\n",
              "\n",
              "  <script>\n",
              "    async function quickchart(key) {\n",
              "      const quickchartButtonEl =\n",
              "        document.querySelector('#' + key + ' button');\n",
              "      quickchartButtonEl.disabled = true;  // To prevent multiple clicks.\n",
              "      quickchartButtonEl.classList.add('colab-df-spinner');\n",
              "      try {\n",
              "        const charts = await google.colab.kernel.invokeFunction(\n",
              "            'suggestCharts', [key], {});\n",
              "      } catch (error) {\n",
              "        console.error('Error during call to suggestCharts:', error);\n",
              "      }\n",
              "      quickchartButtonEl.classList.remove('colab-df-spinner');\n",
              "      quickchartButtonEl.classList.add('colab-df-quickchart-complete');\n",
              "    }\n",
              "    (() => {\n",
              "      let quickchartButtonEl =\n",
              "        document.querySelector('#df-27311fb5-e98d-4803-85e5-d6eb5f51aa08 button');\n",
              "      quickchartButtonEl.style.display =\n",
              "        google.colab.kernel.accessAllowed ? 'block' : 'none';\n",
              "    })();\n",
              "  </script>\n",
              "</div>\n",
              "\n",
              "    </div>\n",
              "  </div>\n"
            ],
            "application/vnd.google.colaboratory.intrinsic+json": {
              "type": "dataframe",
              "variable_name": "reviews",
              "summary": "{\n  \"name\": \"reviews\",\n  \"rows\": 50000,\n  \"fields\": [\n    {\n      \"column\": \"review\",\n      \"properties\": {\n        \"dtype\": \"string\",\n        \"num_unique_values\": 49582,\n        \"samples\": [\n          \"\\\"Soul Plane\\\" is a horrible attempt at comedy that only should appeal people with thick skulls, bloodshot eyes and furry pawns. <br /><br />The plot is not only incoherent but also non-existent, acting is mostly sub sub-par with a gang of highly moronic and dreadful characters thrown in for bad measure, jokes are often spotted miles ahead and almost never even a bit amusing. This movie lacks any structure and is full of racial stereotypes that must have seemed old even in the fifties, the only thing it really has going for it is some pretty ladies, but really, if you want that you can rent something from the \\\"Adult\\\" section. OK?<br /><br />I can hardly see anything here to recommend since you'll probably have a lot a better and productive time chasing rats with a sledgehammer or inventing waterproof teabags or whatever.<br /><br />2/10\",\n          \"Guest from the Future tells a fascinating story of time travel, friendship, battle of good and evil -- all with a small budget, child actors, and few special effects. Something for Spielberg and Lucas to learn from. ;) A sixth-grader Kolya \\\"Nick\\\" Gerasimov finds a time machine in the basement of a decrepit building and travels 100 years into the future. He discovers a near-perfect, utopian society where robots play guitars and write poetry, everyone is kind to each other and people enjoy everything technology has to offer. Alice is the daughter of a prominent scientist who invented a device called Mielophone that allows to read minds of humans and animals. The device can be put to both good and bad use, depending on whose hands it falls into. When two evil space pirates from Saturn who want to rule the universe attempt to steal Mielophone, it falls into the hands of 20th century school boy Nick. With the pirates hot on his tracks, he travels back to his time, followed by the pirates, and Alice. Chaos, confusion and funny situations follow as the luckless pirates try to blend in with the earthlings. Alice enrolls in the same school Nick goes to and demonstrates superhuman abilities in PE class. The catch is, Alice doesn't know what Nick looks like, while the pirates do. Also, the pirates are able to change their appearance and turn literally into anyone. (Hmm, I wonder if this is where James Cameron got the idea for Terminator...) Who gets to Nick -- and Mielophone -- first? Excellent plot, non-stop adventures, and great soundtrack. I wish Hollywood made kid movies like this one...\",\n          \"\\\"National Treasure\\\" (2004) is a thoroughly misguided hodge-podge of plot entanglements that borrow from nearly every cloak and dagger government conspiracy clich\\u00e9 that has ever been written. The film stars Nicholas Cage as Benjamin Franklin Gates (how precious is that, I ask you?); a seemingly normal fellow who, for no other reason than being of a lineage of like-minded misguided fortune hunters, decides to steal a 'national treasure' that has been hidden by the United States founding fathers. After a bit of subtext and background that plays laughably (unintentionally) like Indiana Jones meets The Patriot, the film degenerates into one misguided whimsy after another \\u0096 attempting to create a 'Stanley Goodspeed' regurgitation of Nicholas Cage and launch the whole convoluted mess forward with a series of high octane, but disconnected misadventures.<br /><br />The relevancy and logic to having George Washington and his motley crew of patriots burying a king's ransom someplace on native soil, and then, going through the meticulous plan of leaving clues scattered throughout U.S. currency art work, is something that director Jon Turteltaub never quite gets around to explaining. Couldn't Washington found better usage for such wealth during the start up of the country? Hence, we are left with a mystery built on top of an enigma that is already on shaky ground by the time Ben appoints himself the new custodian of this untold wealth. Ben's intentions are noble \\u0096 if confusing. He's set on protecting the treasure. For who and when?\\u0085your guess is as good as mine.<br /><br />But there are a few problems with Ben's crusade. First up, his friend, Ian Holmes (Sean Bean) decides that he can't wait for Ben to make up his mind about stealing the Declaration of Independence from the National Archives (oh, yeah \\u0096 brilliant idea!). Presumably, the back of that famous document holds the secret answer to the ultimate fortune. So Ian tries to kill Ben. The assassination attempt is, of course, unsuccessful, if overly melodramatic. It also affords Ben the opportunity to pick up, and pick on, the very sultry curator of the archives, Abigail Chase (Diane Kruger). She thinks Ben is clearly a nut \\u0096 at least at the beginning. But true to action/romance form, Abby's resolve melts quicker than you can say, \\\"is that the Hope Diamond?\\\" The film moves into full X-File-ish mode, as the FBI, mistakenly believing that Ben is behind the theft, retaliate in various benign ways that lead to a multi-layering of action sequences reminiscent of Mission Impossible meets The Fugitive. Honestly, don't those guys ever get 'intelligence' information that is correct? In the final analysis, \\\"National Treasure\\\" isn't great film making, so much as it's a patchwork rehash of tired old bits from other movies, woven together from scraps, the likes of which would make IL' Betsy Ross blush.<br /><br />The Buena Vista DVD delivers a far more generous treatment than this film is deserving of. The anamorphic widescreen picture exhibits a very smooth and finely detailed image with very rich colors, natural flesh tones, solid blacks and clean whites. The stylized image is also free of blemishes and digital enhancements. The audio is 5.1 and delivers a nice sonic boom to your side and rear speakers with intensity and realism. Extras include a host of promotional junket material that is rather deep and over the top in its explanation of how and why this film was made. If only, as an audience, we had had more clarification as to why Ben and co. were chasing after an illusive treasure, this might have been one good flick. Extras conclude with the theatrical trailer, audio commentary and deleted scenes. Not for the faint-hearted \\u0096 just the thick-headed.\"\n        ],\n        \"semantic_type\": \"\",\n        \"description\": \"\"\n      }\n    },\n    {\n      \"column\": \"sentiment\",\n      \"properties\": {\n        \"dtype\": \"category\",\n        \"num_unique_values\": 2,\n        \"samples\": [\n          \"negative\",\n          \"positive\"\n        ],\n        \"semantic_type\": \"\",\n        \"description\": \"\"\n      }\n    }\n  ]\n}"
            }
          },
          "metadata": {},
          "execution_count": 17
        }
      ],
      "source": [
        "reviews.head()"
      ]
    },
    {
      "cell_type": "code",
      "execution_count": 18,
      "metadata": {
        "id": "IknZ66IL13Pk"
      },
      "outputs": [],
      "source": [
        "reviews.sentiment = reviews.sentiment.map({'positive':1,'negative':0})"
      ]
    },
    {
      "cell_type": "code",
      "execution_count": 19,
      "metadata": {
        "colab": {
          "base_uri": "https://localhost:8080/",
          "height": 206
        },
        "id": "wPX0lUN018Nb",
        "outputId": "e1b58cf8-3ab8-4256-ecdf-2ad780f3c937"
      },
      "outputs": [
        {
          "output_type": "execute_result",
          "data": {
            "text/plain": [
              "                                              review  sentiment\n",
              "0  One of the other reviewers has mentioned that ...          1\n",
              "1  A wonderful little production. <br /><br />The...          1\n",
              "2  I thought this was a wonderful way to spend ti...          1\n",
              "3  Basically there's a family where a little boy ...          0\n",
              "4  Petter Mattei's \"Love in the Time of Money\" is...          1"
            ],
            "text/html": [
              "\n",
              "  <div id=\"df-b9d1ed2c-9dcb-4851-9e40-7513558f3458\" class=\"colab-df-container\">\n",
              "    <div>\n",
              "<style scoped>\n",
              "    .dataframe tbody tr th:only-of-type {\n",
              "        vertical-align: middle;\n",
              "    }\n",
              "\n",
              "    .dataframe tbody tr th {\n",
              "        vertical-align: top;\n",
              "    }\n",
              "\n",
              "    .dataframe thead th {\n",
              "        text-align: right;\n",
              "    }\n",
              "</style>\n",
              "<table border=\"1\" class=\"dataframe\">\n",
              "  <thead>\n",
              "    <tr style=\"text-align: right;\">\n",
              "      <th></th>\n",
              "      <th>review</th>\n",
              "      <th>sentiment</th>\n",
              "    </tr>\n",
              "  </thead>\n",
              "  <tbody>\n",
              "    <tr>\n",
              "      <th>0</th>\n",
              "      <td>One of the other reviewers has mentioned that ...</td>\n",
              "      <td>1</td>\n",
              "    </tr>\n",
              "    <tr>\n",
              "      <th>1</th>\n",
              "      <td>A wonderful little production. &lt;br /&gt;&lt;br /&gt;The...</td>\n",
              "      <td>1</td>\n",
              "    </tr>\n",
              "    <tr>\n",
              "      <th>2</th>\n",
              "      <td>I thought this was a wonderful way to spend ti...</td>\n",
              "      <td>1</td>\n",
              "    </tr>\n",
              "    <tr>\n",
              "      <th>3</th>\n",
              "      <td>Basically there's a family where a little boy ...</td>\n",
              "      <td>0</td>\n",
              "    </tr>\n",
              "    <tr>\n",
              "      <th>4</th>\n",
              "      <td>Petter Mattei's \"Love in the Time of Money\" is...</td>\n",
              "      <td>1</td>\n",
              "    </tr>\n",
              "  </tbody>\n",
              "</table>\n",
              "</div>\n",
              "    <div class=\"colab-df-buttons\">\n",
              "\n",
              "  <div class=\"colab-df-container\">\n",
              "    <button class=\"colab-df-convert\" onclick=\"convertToInteractive('df-b9d1ed2c-9dcb-4851-9e40-7513558f3458')\"\n",
              "            title=\"Convert this dataframe to an interactive table.\"\n",
              "            style=\"display:none;\">\n",
              "\n",
              "  <svg xmlns=\"http://www.w3.org/2000/svg\" height=\"24px\" viewBox=\"0 -960 960 960\">\n",
              "    <path d=\"M120-120v-720h720v720H120Zm60-500h600v-160H180v160Zm220 220h160v-160H400v160Zm0 220h160v-160H400v160ZM180-400h160v-160H180v160Zm440 0h160v-160H620v160ZM180-180h160v-160H180v160Zm440 0h160v-160H620v160Z\"/>\n",
              "  </svg>\n",
              "    </button>\n",
              "\n",
              "  <style>\n",
              "    .colab-df-container {\n",
              "      display:flex;\n",
              "      gap: 12px;\n",
              "    }\n",
              "\n",
              "    .colab-df-convert {\n",
              "      background-color: #E8F0FE;\n",
              "      border: none;\n",
              "      border-radius: 50%;\n",
              "      cursor: pointer;\n",
              "      display: none;\n",
              "      fill: #1967D2;\n",
              "      height: 32px;\n",
              "      padding: 0 0 0 0;\n",
              "      width: 32px;\n",
              "    }\n",
              "\n",
              "    .colab-df-convert:hover {\n",
              "      background-color: #E2EBFA;\n",
              "      box-shadow: 0px 1px 2px rgba(60, 64, 67, 0.3), 0px 1px 3px 1px rgba(60, 64, 67, 0.15);\n",
              "      fill: #174EA6;\n",
              "    }\n",
              "\n",
              "    .colab-df-buttons div {\n",
              "      margin-bottom: 4px;\n",
              "    }\n",
              "\n",
              "    [theme=dark] .colab-df-convert {\n",
              "      background-color: #3B4455;\n",
              "      fill: #D2E3FC;\n",
              "    }\n",
              "\n",
              "    [theme=dark] .colab-df-convert:hover {\n",
              "      background-color: #434B5C;\n",
              "      box-shadow: 0px 1px 3px 1px rgba(0, 0, 0, 0.15);\n",
              "      filter: drop-shadow(0px 1px 2px rgba(0, 0, 0, 0.3));\n",
              "      fill: #FFFFFF;\n",
              "    }\n",
              "  </style>\n",
              "\n",
              "    <script>\n",
              "      const buttonEl =\n",
              "        document.querySelector('#df-b9d1ed2c-9dcb-4851-9e40-7513558f3458 button.colab-df-convert');\n",
              "      buttonEl.style.display =\n",
              "        google.colab.kernel.accessAllowed ? 'block' : 'none';\n",
              "\n",
              "      async function convertToInteractive(key) {\n",
              "        const element = document.querySelector('#df-b9d1ed2c-9dcb-4851-9e40-7513558f3458');\n",
              "        const dataTable =\n",
              "          await google.colab.kernel.invokeFunction('convertToInteractive',\n",
              "                                                    [key], {});\n",
              "        if (!dataTable) return;\n",
              "\n",
              "        const docLinkHtml = 'Like what you see? Visit the ' +\n",
              "          '<a target=\"_blank\" href=https://colab.research.google.com/notebooks/data_table.ipynb>data table notebook</a>'\n",
              "          + ' to learn more about interactive tables.';\n",
              "        element.innerHTML = '';\n",
              "        dataTable['output_type'] = 'display_data';\n",
              "        await google.colab.output.renderOutput(dataTable, element);\n",
              "        const docLink = document.createElement('div');\n",
              "        docLink.innerHTML = docLinkHtml;\n",
              "        element.appendChild(docLink);\n",
              "      }\n",
              "    </script>\n",
              "  </div>\n",
              "\n",
              "\n",
              "<div id=\"df-4154d860-c94e-41b6-b2f8-7d24cc456090\">\n",
              "  <button class=\"colab-df-quickchart\" onclick=\"quickchart('df-4154d860-c94e-41b6-b2f8-7d24cc456090')\"\n",
              "            title=\"Suggest charts\"\n",
              "            style=\"display:none;\">\n",
              "\n",
              "<svg xmlns=\"http://www.w3.org/2000/svg\" height=\"24px\"viewBox=\"0 0 24 24\"\n",
              "     width=\"24px\">\n",
              "    <g>\n",
              "        <path d=\"M19 3H5c-1.1 0-2 .9-2 2v14c0 1.1.9 2 2 2h14c1.1 0 2-.9 2-2V5c0-1.1-.9-2-2-2zM9 17H7v-7h2v7zm4 0h-2V7h2v10zm4 0h-2v-4h2v4z\"/>\n",
              "    </g>\n",
              "</svg>\n",
              "  </button>\n",
              "\n",
              "<style>\n",
              "  .colab-df-quickchart {\n",
              "      --bg-color: #E8F0FE;\n",
              "      --fill-color: #1967D2;\n",
              "      --hover-bg-color: #E2EBFA;\n",
              "      --hover-fill-color: #174EA6;\n",
              "      --disabled-fill-color: #AAA;\n",
              "      --disabled-bg-color: #DDD;\n",
              "  }\n",
              "\n",
              "  [theme=dark] .colab-df-quickchart {\n",
              "      --bg-color: #3B4455;\n",
              "      --fill-color: #D2E3FC;\n",
              "      --hover-bg-color: #434B5C;\n",
              "      --hover-fill-color: #FFFFFF;\n",
              "      --disabled-bg-color: #3B4455;\n",
              "      --disabled-fill-color: #666;\n",
              "  }\n",
              "\n",
              "  .colab-df-quickchart {\n",
              "    background-color: var(--bg-color);\n",
              "    border: none;\n",
              "    border-radius: 50%;\n",
              "    cursor: pointer;\n",
              "    display: none;\n",
              "    fill: var(--fill-color);\n",
              "    height: 32px;\n",
              "    padding: 0;\n",
              "    width: 32px;\n",
              "  }\n",
              "\n",
              "  .colab-df-quickchart:hover {\n",
              "    background-color: var(--hover-bg-color);\n",
              "    box-shadow: 0 1px 2px rgba(60, 64, 67, 0.3), 0 1px 3px 1px rgba(60, 64, 67, 0.15);\n",
              "    fill: var(--button-hover-fill-color);\n",
              "  }\n",
              "\n",
              "  .colab-df-quickchart-complete:disabled,\n",
              "  .colab-df-quickchart-complete:disabled:hover {\n",
              "    background-color: var(--disabled-bg-color);\n",
              "    fill: var(--disabled-fill-color);\n",
              "    box-shadow: none;\n",
              "  }\n",
              "\n",
              "  .colab-df-spinner {\n",
              "    border: 2px solid var(--fill-color);\n",
              "    border-color: transparent;\n",
              "    border-bottom-color: var(--fill-color);\n",
              "    animation:\n",
              "      spin 1s steps(1) infinite;\n",
              "  }\n",
              "\n",
              "  @keyframes spin {\n",
              "    0% {\n",
              "      border-color: transparent;\n",
              "      border-bottom-color: var(--fill-color);\n",
              "      border-left-color: var(--fill-color);\n",
              "    }\n",
              "    20% {\n",
              "      border-color: transparent;\n",
              "      border-left-color: var(--fill-color);\n",
              "      border-top-color: var(--fill-color);\n",
              "    }\n",
              "    30% {\n",
              "      border-color: transparent;\n",
              "      border-left-color: var(--fill-color);\n",
              "      border-top-color: var(--fill-color);\n",
              "      border-right-color: var(--fill-color);\n",
              "    }\n",
              "    40% {\n",
              "      border-color: transparent;\n",
              "      border-right-color: var(--fill-color);\n",
              "      border-top-color: var(--fill-color);\n",
              "    }\n",
              "    60% {\n",
              "      border-color: transparent;\n",
              "      border-right-color: var(--fill-color);\n",
              "    }\n",
              "    80% {\n",
              "      border-color: transparent;\n",
              "      border-right-color: var(--fill-color);\n",
              "      border-bottom-color: var(--fill-color);\n",
              "    }\n",
              "    90% {\n",
              "      border-color: transparent;\n",
              "      border-bottom-color: var(--fill-color);\n",
              "    }\n",
              "  }\n",
              "</style>\n",
              "\n",
              "  <script>\n",
              "    async function quickchart(key) {\n",
              "      const quickchartButtonEl =\n",
              "        document.querySelector('#' + key + ' button');\n",
              "      quickchartButtonEl.disabled = true;  // To prevent multiple clicks.\n",
              "      quickchartButtonEl.classList.add('colab-df-spinner');\n",
              "      try {\n",
              "        const charts = await google.colab.kernel.invokeFunction(\n",
              "            'suggestCharts', [key], {});\n",
              "      } catch (error) {\n",
              "        console.error('Error during call to suggestCharts:', error);\n",
              "      }\n",
              "      quickchartButtonEl.classList.remove('colab-df-spinner');\n",
              "      quickchartButtonEl.classList.add('colab-df-quickchart-complete');\n",
              "    }\n",
              "    (() => {\n",
              "      let quickchartButtonEl =\n",
              "        document.querySelector('#df-4154d860-c94e-41b6-b2f8-7d24cc456090 button');\n",
              "      quickchartButtonEl.style.display =\n",
              "        google.colab.kernel.accessAllowed ? 'block' : 'none';\n",
              "    })();\n",
              "  </script>\n",
              "</div>\n",
              "\n",
              "    </div>\n",
              "  </div>\n"
            ],
            "application/vnd.google.colaboratory.intrinsic+json": {
              "type": "dataframe",
              "variable_name": "reviews",
              "summary": "{\n  \"name\": \"reviews\",\n  \"rows\": 50000,\n  \"fields\": [\n    {\n      \"column\": \"review\",\n      \"properties\": {\n        \"dtype\": \"string\",\n        \"num_unique_values\": 49582,\n        \"samples\": [\n          \"\\\"Soul Plane\\\" is a horrible attempt at comedy that only should appeal people with thick skulls, bloodshot eyes and furry pawns. <br /><br />The plot is not only incoherent but also non-existent, acting is mostly sub sub-par with a gang of highly moronic and dreadful characters thrown in for bad measure, jokes are often spotted miles ahead and almost never even a bit amusing. This movie lacks any structure and is full of racial stereotypes that must have seemed old even in the fifties, the only thing it really has going for it is some pretty ladies, but really, if you want that you can rent something from the \\\"Adult\\\" section. OK?<br /><br />I can hardly see anything here to recommend since you'll probably have a lot a better and productive time chasing rats with a sledgehammer or inventing waterproof teabags or whatever.<br /><br />2/10\",\n          \"Guest from the Future tells a fascinating story of time travel, friendship, battle of good and evil -- all with a small budget, child actors, and few special effects. Something for Spielberg and Lucas to learn from. ;) A sixth-grader Kolya \\\"Nick\\\" Gerasimov finds a time machine in the basement of a decrepit building and travels 100 years into the future. He discovers a near-perfect, utopian society where robots play guitars and write poetry, everyone is kind to each other and people enjoy everything technology has to offer. Alice is the daughter of a prominent scientist who invented a device called Mielophone that allows to read minds of humans and animals. The device can be put to both good and bad use, depending on whose hands it falls into. When two evil space pirates from Saturn who want to rule the universe attempt to steal Mielophone, it falls into the hands of 20th century school boy Nick. With the pirates hot on his tracks, he travels back to his time, followed by the pirates, and Alice. Chaos, confusion and funny situations follow as the luckless pirates try to blend in with the earthlings. Alice enrolls in the same school Nick goes to and demonstrates superhuman abilities in PE class. The catch is, Alice doesn't know what Nick looks like, while the pirates do. Also, the pirates are able to change their appearance and turn literally into anyone. (Hmm, I wonder if this is where James Cameron got the idea for Terminator...) Who gets to Nick -- and Mielophone -- first? Excellent plot, non-stop adventures, and great soundtrack. I wish Hollywood made kid movies like this one...\",\n          \"\\\"National Treasure\\\" (2004) is a thoroughly misguided hodge-podge of plot entanglements that borrow from nearly every cloak and dagger government conspiracy clich\\u00e9 that has ever been written. The film stars Nicholas Cage as Benjamin Franklin Gates (how precious is that, I ask you?); a seemingly normal fellow who, for no other reason than being of a lineage of like-minded misguided fortune hunters, decides to steal a 'national treasure' that has been hidden by the United States founding fathers. After a bit of subtext and background that plays laughably (unintentionally) like Indiana Jones meets The Patriot, the film degenerates into one misguided whimsy after another \\u0096 attempting to create a 'Stanley Goodspeed' regurgitation of Nicholas Cage and launch the whole convoluted mess forward with a series of high octane, but disconnected misadventures.<br /><br />The relevancy and logic to having George Washington and his motley crew of patriots burying a king's ransom someplace on native soil, and then, going through the meticulous plan of leaving clues scattered throughout U.S. currency art work, is something that director Jon Turteltaub never quite gets around to explaining. Couldn't Washington found better usage for such wealth during the start up of the country? Hence, we are left with a mystery built on top of an enigma that is already on shaky ground by the time Ben appoints himself the new custodian of this untold wealth. Ben's intentions are noble \\u0096 if confusing. He's set on protecting the treasure. For who and when?\\u0085your guess is as good as mine.<br /><br />But there are a few problems with Ben's crusade. First up, his friend, Ian Holmes (Sean Bean) decides that he can't wait for Ben to make up his mind about stealing the Declaration of Independence from the National Archives (oh, yeah \\u0096 brilliant idea!). Presumably, the back of that famous document holds the secret answer to the ultimate fortune. So Ian tries to kill Ben. The assassination attempt is, of course, unsuccessful, if overly melodramatic. It also affords Ben the opportunity to pick up, and pick on, the very sultry curator of the archives, Abigail Chase (Diane Kruger). She thinks Ben is clearly a nut \\u0096 at least at the beginning. But true to action/romance form, Abby's resolve melts quicker than you can say, \\\"is that the Hope Diamond?\\\" The film moves into full X-File-ish mode, as the FBI, mistakenly believing that Ben is behind the theft, retaliate in various benign ways that lead to a multi-layering of action sequences reminiscent of Mission Impossible meets The Fugitive. Honestly, don't those guys ever get 'intelligence' information that is correct? In the final analysis, \\\"National Treasure\\\" isn't great film making, so much as it's a patchwork rehash of tired old bits from other movies, woven together from scraps, the likes of which would make IL' Betsy Ross blush.<br /><br />The Buena Vista DVD delivers a far more generous treatment than this film is deserving of. The anamorphic widescreen picture exhibits a very smooth and finely detailed image with very rich colors, natural flesh tones, solid blacks and clean whites. The stylized image is also free of blemishes and digital enhancements. The audio is 5.1 and delivers a nice sonic boom to your side and rear speakers with intensity and realism. Extras include a host of promotional junket material that is rather deep and over the top in its explanation of how and why this film was made. If only, as an audience, we had had more clarification as to why Ben and co. were chasing after an illusive treasure, this might have been one good flick. Extras conclude with the theatrical trailer, audio commentary and deleted scenes. Not for the faint-hearted \\u0096 just the thick-headed.\"\n        ],\n        \"semantic_type\": \"\",\n        \"description\": \"\"\n      }\n    },\n    {\n      \"column\": \"sentiment\",\n      \"properties\": {\n        \"dtype\": \"number\",\n        \"std\": 0,\n        \"min\": 0,\n        \"max\": 1,\n        \"num_unique_values\": 2,\n        \"samples\": [\n          0,\n          1\n        ],\n        \"semantic_type\": \"\",\n        \"description\": \"\"\n      }\n    }\n  ]\n}"
            }
          },
          "metadata": {},
          "execution_count": 19
        }
      ],
      "source": [
        "reviews.head()"
      ]
    },
    {
      "cell_type": "code",
      "execution_count": 20,
      "metadata": {
        "colab": {
          "base_uri": "https://localhost:8080/",
          "height": 146
        },
        "id": "TtGWpdsn21Qq",
        "outputId": "484da120-cb74-4ca4-d3c5-a43c8e4e5919"
      },
      "outputs": [
        {
          "output_type": "execute_result",
          "data": {
            "text/plain": [
              "review       0\n",
              "sentiment    0\n",
              "dtype: int64"
            ],
            "text/html": [
              "<div>\n",
              "<style scoped>\n",
              "    .dataframe tbody tr th:only-of-type {\n",
              "        vertical-align: middle;\n",
              "    }\n",
              "\n",
              "    .dataframe tbody tr th {\n",
              "        vertical-align: top;\n",
              "    }\n",
              "\n",
              "    .dataframe thead th {\n",
              "        text-align: right;\n",
              "    }\n",
              "</style>\n",
              "<table border=\"1\" class=\"dataframe\">\n",
              "  <thead>\n",
              "    <tr style=\"text-align: right;\">\n",
              "      <th></th>\n",
              "      <th>0</th>\n",
              "    </tr>\n",
              "  </thead>\n",
              "  <tbody>\n",
              "    <tr>\n",
              "      <th>review</th>\n",
              "      <td>0</td>\n",
              "    </tr>\n",
              "    <tr>\n",
              "      <th>sentiment</th>\n",
              "      <td>0</td>\n",
              "    </tr>\n",
              "  </tbody>\n",
              "</table>\n",
              "</div><br><label><b>dtype:</b> int64</label>"
            ]
          },
          "metadata": {},
          "execution_count": 20
        }
      ],
      "source": [
        "reviews.isna().sum()"
      ]
    },
    {
      "cell_type": "code",
      "execution_count": 21,
      "metadata": {
        "colab": {
          "base_uri": "https://localhost:8080/"
        },
        "id": "sDJXCMUR23oI",
        "outputId": "fc7bf6c1-af64-4478-f006-5691041be5a8"
      },
      "outputs": [
        {
          "output_type": "execute_result",
          "data": {
            "text/plain": [
              "418"
            ]
          },
          "metadata": {},
          "execution_count": 21
        }
      ],
      "source": [
        "reviews.duplicated().sum()"
      ]
    },
    {
      "cell_type": "code",
      "execution_count": 22,
      "metadata": {
        "id": "75beijh026Kh"
      },
      "outputs": [],
      "source": [
        "reviews.drop_duplicates(inplace=True)"
      ]
    },
    {
      "cell_type": "code",
      "execution_count": 23,
      "metadata": {
        "id": "w85AEE0bupum"
      },
      "outputs": [],
      "source": [
        "reviews.reset_index(drop=True, inplace=True)"
      ]
    },
    {
      "cell_type": "code",
      "execution_count": 24,
      "metadata": {
        "colab": {
          "base_uri": "https://localhost:8080/"
        },
        "id": "2DtCWrzq29gI",
        "outputId": "9ce23ad6-35d2-4e73-986b-ad1238922061"
      },
      "outputs": [
        {
          "output_type": "execute_result",
          "data": {
            "text/plain": [
              "0"
            ]
          },
          "metadata": {},
          "execution_count": 24
        }
      ],
      "source": [
        "reviews.duplicated().sum()"
      ]
    },
    {
      "cell_type": "code",
      "execution_count": 25,
      "metadata": {
        "colab": {
          "base_uri": "https://localhost:8080/"
        },
        "id": "wJ7cGFE52_3Z",
        "outputId": "17715f38-fa99-43da-c008-41e52b98b1da"
      },
      "outputs": [
        {
          "output_type": "execute_result",
          "data": {
            "text/plain": [
              "(49582, 2)"
            ]
          },
          "metadata": {},
          "execution_count": 25
        }
      ],
      "source": [
        "reviews.shape"
      ]
    },
    {
      "cell_type": "code",
      "execution_count": 26,
      "metadata": {
        "id": "aB_gkNSkxb7T"
      },
      "outputs": [],
      "source": [
        "reviews[\"length\"] = reviews.review.str.len()"
      ]
    },
    {
      "cell_type": "code",
      "execution_count": 27,
      "metadata": {
        "colab": {
          "base_uri": "https://localhost:8080/",
          "height": 206
        },
        "id": "jZVXUsdixjcT",
        "outputId": "84017225-5bd4-4110-b8a4-18c3f71de2b7"
      },
      "outputs": [
        {
          "output_type": "execute_result",
          "data": {
            "text/plain": [
              "                                              review  sentiment  length\n",
              "0  One of the other reviewers has mentioned that ...          1    1761\n",
              "1  A wonderful little production. <br /><br />The...          1     998\n",
              "2  I thought this was a wonderful way to spend ti...          1     926\n",
              "3  Basically there's a family where a little boy ...          0     748\n",
              "4  Petter Mattei's \"Love in the Time of Money\" is...          1    1317"
            ],
            "text/html": [
              "\n",
              "  <div id=\"df-2d7f0c01-98d3-40db-9e57-19bfef64e75e\" class=\"colab-df-container\">\n",
              "    <div>\n",
              "<style scoped>\n",
              "    .dataframe tbody tr th:only-of-type {\n",
              "        vertical-align: middle;\n",
              "    }\n",
              "\n",
              "    .dataframe tbody tr th {\n",
              "        vertical-align: top;\n",
              "    }\n",
              "\n",
              "    .dataframe thead th {\n",
              "        text-align: right;\n",
              "    }\n",
              "</style>\n",
              "<table border=\"1\" class=\"dataframe\">\n",
              "  <thead>\n",
              "    <tr style=\"text-align: right;\">\n",
              "      <th></th>\n",
              "      <th>review</th>\n",
              "      <th>sentiment</th>\n",
              "      <th>length</th>\n",
              "    </tr>\n",
              "  </thead>\n",
              "  <tbody>\n",
              "    <tr>\n",
              "      <th>0</th>\n",
              "      <td>One of the other reviewers has mentioned that ...</td>\n",
              "      <td>1</td>\n",
              "      <td>1761</td>\n",
              "    </tr>\n",
              "    <tr>\n",
              "      <th>1</th>\n",
              "      <td>A wonderful little production. &lt;br /&gt;&lt;br /&gt;The...</td>\n",
              "      <td>1</td>\n",
              "      <td>998</td>\n",
              "    </tr>\n",
              "    <tr>\n",
              "      <th>2</th>\n",
              "      <td>I thought this was a wonderful way to spend ti...</td>\n",
              "      <td>1</td>\n",
              "      <td>926</td>\n",
              "    </tr>\n",
              "    <tr>\n",
              "      <th>3</th>\n",
              "      <td>Basically there's a family where a little boy ...</td>\n",
              "      <td>0</td>\n",
              "      <td>748</td>\n",
              "    </tr>\n",
              "    <tr>\n",
              "      <th>4</th>\n",
              "      <td>Petter Mattei's \"Love in the Time of Money\" is...</td>\n",
              "      <td>1</td>\n",
              "      <td>1317</td>\n",
              "    </tr>\n",
              "  </tbody>\n",
              "</table>\n",
              "</div>\n",
              "    <div class=\"colab-df-buttons\">\n",
              "\n",
              "  <div class=\"colab-df-container\">\n",
              "    <button class=\"colab-df-convert\" onclick=\"convertToInteractive('df-2d7f0c01-98d3-40db-9e57-19bfef64e75e')\"\n",
              "            title=\"Convert this dataframe to an interactive table.\"\n",
              "            style=\"display:none;\">\n",
              "\n",
              "  <svg xmlns=\"http://www.w3.org/2000/svg\" height=\"24px\" viewBox=\"0 -960 960 960\">\n",
              "    <path d=\"M120-120v-720h720v720H120Zm60-500h600v-160H180v160Zm220 220h160v-160H400v160Zm0 220h160v-160H400v160ZM180-400h160v-160H180v160Zm440 0h160v-160H620v160ZM180-180h160v-160H180v160Zm440 0h160v-160H620v160Z\"/>\n",
              "  </svg>\n",
              "    </button>\n",
              "\n",
              "  <style>\n",
              "    .colab-df-container {\n",
              "      display:flex;\n",
              "      gap: 12px;\n",
              "    }\n",
              "\n",
              "    .colab-df-convert {\n",
              "      background-color: #E8F0FE;\n",
              "      border: none;\n",
              "      border-radius: 50%;\n",
              "      cursor: pointer;\n",
              "      display: none;\n",
              "      fill: #1967D2;\n",
              "      height: 32px;\n",
              "      padding: 0 0 0 0;\n",
              "      width: 32px;\n",
              "    }\n",
              "\n",
              "    .colab-df-convert:hover {\n",
              "      background-color: #E2EBFA;\n",
              "      box-shadow: 0px 1px 2px rgba(60, 64, 67, 0.3), 0px 1px 3px 1px rgba(60, 64, 67, 0.15);\n",
              "      fill: #174EA6;\n",
              "    }\n",
              "\n",
              "    .colab-df-buttons div {\n",
              "      margin-bottom: 4px;\n",
              "    }\n",
              "\n",
              "    [theme=dark] .colab-df-convert {\n",
              "      background-color: #3B4455;\n",
              "      fill: #D2E3FC;\n",
              "    }\n",
              "\n",
              "    [theme=dark] .colab-df-convert:hover {\n",
              "      background-color: #434B5C;\n",
              "      box-shadow: 0px 1px 3px 1px rgba(0, 0, 0, 0.15);\n",
              "      filter: drop-shadow(0px 1px 2px rgba(0, 0, 0, 0.3));\n",
              "      fill: #FFFFFF;\n",
              "    }\n",
              "  </style>\n",
              "\n",
              "    <script>\n",
              "      const buttonEl =\n",
              "        document.querySelector('#df-2d7f0c01-98d3-40db-9e57-19bfef64e75e button.colab-df-convert');\n",
              "      buttonEl.style.display =\n",
              "        google.colab.kernel.accessAllowed ? 'block' : 'none';\n",
              "\n",
              "      async function convertToInteractive(key) {\n",
              "        const element = document.querySelector('#df-2d7f0c01-98d3-40db-9e57-19bfef64e75e');\n",
              "        const dataTable =\n",
              "          await google.colab.kernel.invokeFunction('convertToInteractive',\n",
              "                                                    [key], {});\n",
              "        if (!dataTable) return;\n",
              "\n",
              "        const docLinkHtml = 'Like what you see? Visit the ' +\n",
              "          '<a target=\"_blank\" href=https://colab.research.google.com/notebooks/data_table.ipynb>data table notebook</a>'\n",
              "          + ' to learn more about interactive tables.';\n",
              "        element.innerHTML = '';\n",
              "        dataTable['output_type'] = 'display_data';\n",
              "        await google.colab.output.renderOutput(dataTable, element);\n",
              "        const docLink = document.createElement('div');\n",
              "        docLink.innerHTML = docLinkHtml;\n",
              "        element.appendChild(docLink);\n",
              "      }\n",
              "    </script>\n",
              "  </div>\n",
              "\n",
              "\n",
              "<div id=\"df-084465f6-5570-42a3-aa97-ebd7a621b393\">\n",
              "  <button class=\"colab-df-quickchart\" onclick=\"quickchart('df-084465f6-5570-42a3-aa97-ebd7a621b393')\"\n",
              "            title=\"Suggest charts\"\n",
              "            style=\"display:none;\">\n",
              "\n",
              "<svg xmlns=\"http://www.w3.org/2000/svg\" height=\"24px\"viewBox=\"0 0 24 24\"\n",
              "     width=\"24px\">\n",
              "    <g>\n",
              "        <path d=\"M19 3H5c-1.1 0-2 .9-2 2v14c0 1.1.9 2 2 2h14c1.1 0 2-.9 2-2V5c0-1.1-.9-2-2-2zM9 17H7v-7h2v7zm4 0h-2V7h2v10zm4 0h-2v-4h2v4z\"/>\n",
              "    </g>\n",
              "</svg>\n",
              "  </button>\n",
              "\n",
              "<style>\n",
              "  .colab-df-quickchart {\n",
              "      --bg-color: #E8F0FE;\n",
              "      --fill-color: #1967D2;\n",
              "      --hover-bg-color: #E2EBFA;\n",
              "      --hover-fill-color: #174EA6;\n",
              "      --disabled-fill-color: #AAA;\n",
              "      --disabled-bg-color: #DDD;\n",
              "  }\n",
              "\n",
              "  [theme=dark] .colab-df-quickchart {\n",
              "      --bg-color: #3B4455;\n",
              "      --fill-color: #D2E3FC;\n",
              "      --hover-bg-color: #434B5C;\n",
              "      --hover-fill-color: #FFFFFF;\n",
              "      --disabled-bg-color: #3B4455;\n",
              "      --disabled-fill-color: #666;\n",
              "  }\n",
              "\n",
              "  .colab-df-quickchart {\n",
              "    background-color: var(--bg-color);\n",
              "    border: none;\n",
              "    border-radius: 50%;\n",
              "    cursor: pointer;\n",
              "    display: none;\n",
              "    fill: var(--fill-color);\n",
              "    height: 32px;\n",
              "    padding: 0;\n",
              "    width: 32px;\n",
              "  }\n",
              "\n",
              "  .colab-df-quickchart:hover {\n",
              "    background-color: var(--hover-bg-color);\n",
              "    box-shadow: 0 1px 2px rgba(60, 64, 67, 0.3), 0 1px 3px 1px rgba(60, 64, 67, 0.15);\n",
              "    fill: var(--button-hover-fill-color);\n",
              "  }\n",
              "\n",
              "  .colab-df-quickchart-complete:disabled,\n",
              "  .colab-df-quickchart-complete:disabled:hover {\n",
              "    background-color: var(--disabled-bg-color);\n",
              "    fill: var(--disabled-fill-color);\n",
              "    box-shadow: none;\n",
              "  }\n",
              "\n",
              "  .colab-df-spinner {\n",
              "    border: 2px solid var(--fill-color);\n",
              "    border-color: transparent;\n",
              "    border-bottom-color: var(--fill-color);\n",
              "    animation:\n",
              "      spin 1s steps(1) infinite;\n",
              "  }\n",
              "\n",
              "  @keyframes spin {\n",
              "    0% {\n",
              "      border-color: transparent;\n",
              "      border-bottom-color: var(--fill-color);\n",
              "      border-left-color: var(--fill-color);\n",
              "    }\n",
              "    20% {\n",
              "      border-color: transparent;\n",
              "      border-left-color: var(--fill-color);\n",
              "      border-top-color: var(--fill-color);\n",
              "    }\n",
              "    30% {\n",
              "      border-color: transparent;\n",
              "      border-left-color: var(--fill-color);\n",
              "      border-top-color: var(--fill-color);\n",
              "      border-right-color: var(--fill-color);\n",
              "    }\n",
              "    40% {\n",
              "      border-color: transparent;\n",
              "      border-right-color: var(--fill-color);\n",
              "      border-top-color: var(--fill-color);\n",
              "    }\n",
              "    60% {\n",
              "      border-color: transparent;\n",
              "      border-right-color: var(--fill-color);\n",
              "    }\n",
              "    80% {\n",
              "      border-color: transparent;\n",
              "      border-right-color: var(--fill-color);\n",
              "      border-bottom-color: var(--fill-color);\n",
              "    }\n",
              "    90% {\n",
              "      border-color: transparent;\n",
              "      border-bottom-color: var(--fill-color);\n",
              "    }\n",
              "  }\n",
              "</style>\n",
              "\n",
              "  <script>\n",
              "    async function quickchart(key) {\n",
              "      const quickchartButtonEl =\n",
              "        document.querySelector('#' + key + ' button');\n",
              "      quickchartButtonEl.disabled = true;  // To prevent multiple clicks.\n",
              "      quickchartButtonEl.classList.add('colab-df-spinner');\n",
              "      try {\n",
              "        const charts = await google.colab.kernel.invokeFunction(\n",
              "            'suggestCharts', [key], {});\n",
              "      } catch (error) {\n",
              "        console.error('Error during call to suggestCharts:', error);\n",
              "      }\n",
              "      quickchartButtonEl.classList.remove('colab-df-spinner');\n",
              "      quickchartButtonEl.classList.add('colab-df-quickchart-complete');\n",
              "    }\n",
              "    (() => {\n",
              "      let quickchartButtonEl =\n",
              "        document.querySelector('#df-084465f6-5570-42a3-aa97-ebd7a621b393 button');\n",
              "      quickchartButtonEl.style.display =\n",
              "        google.colab.kernel.accessAllowed ? 'block' : 'none';\n",
              "    })();\n",
              "  </script>\n",
              "</div>\n",
              "\n",
              "    </div>\n",
              "  </div>\n"
            ],
            "application/vnd.google.colaboratory.intrinsic+json": {
              "type": "dataframe",
              "variable_name": "reviews",
              "summary": "{\n  \"name\": \"reviews\",\n  \"rows\": 49582,\n  \"fields\": [\n    {\n      \"column\": \"review\",\n      \"properties\": {\n        \"dtype\": \"string\",\n        \"num_unique_values\": 49582,\n        \"samples\": [\n          \"\\\"Soul Plane\\\" is a horrible attempt at comedy that only should appeal people with thick skulls, bloodshot eyes and furry pawns. <br /><br />The plot is not only incoherent but also non-existent, acting is mostly sub sub-par with a gang of highly moronic and dreadful characters thrown in for bad measure, jokes are often spotted miles ahead and almost never even a bit amusing. This movie lacks any structure and is full of racial stereotypes that must have seemed old even in the fifties, the only thing it really has going for it is some pretty ladies, but really, if you want that you can rent something from the \\\"Adult\\\" section. OK?<br /><br />I can hardly see anything here to recommend since you'll probably have a lot a better and productive time chasing rats with a sledgehammer or inventing waterproof teabags or whatever.<br /><br />2/10\",\n          \"Guest from the Future tells a fascinating story of time travel, friendship, battle of good and evil -- all with a small budget, child actors, and few special effects. Something for Spielberg and Lucas to learn from. ;) A sixth-grader Kolya \\\"Nick\\\" Gerasimov finds a time machine in the basement of a decrepit building and travels 100 years into the future. He discovers a near-perfect, utopian society where robots play guitars and write poetry, everyone is kind to each other and people enjoy everything technology has to offer. Alice is the daughter of a prominent scientist who invented a device called Mielophone that allows to read minds of humans and animals. The device can be put to both good and bad use, depending on whose hands it falls into. When two evil space pirates from Saturn who want to rule the universe attempt to steal Mielophone, it falls into the hands of 20th century school boy Nick. With the pirates hot on his tracks, he travels back to his time, followed by the pirates, and Alice. Chaos, confusion and funny situations follow as the luckless pirates try to blend in with the earthlings. Alice enrolls in the same school Nick goes to and demonstrates superhuman abilities in PE class. The catch is, Alice doesn't know what Nick looks like, while the pirates do. Also, the pirates are able to change their appearance and turn literally into anyone. (Hmm, I wonder if this is where James Cameron got the idea for Terminator...) Who gets to Nick -- and Mielophone -- first? Excellent plot, non-stop adventures, and great soundtrack. I wish Hollywood made kid movies like this one...\",\n          \"\\\"National Treasure\\\" (2004) is a thoroughly misguided hodge-podge of plot entanglements that borrow from nearly every cloak and dagger government conspiracy clich\\u00e9 that has ever been written. The film stars Nicholas Cage as Benjamin Franklin Gates (how precious is that, I ask you?); a seemingly normal fellow who, for no other reason than being of a lineage of like-minded misguided fortune hunters, decides to steal a 'national treasure' that has been hidden by the United States founding fathers. After a bit of subtext and background that plays laughably (unintentionally) like Indiana Jones meets The Patriot, the film degenerates into one misguided whimsy after another \\u0096 attempting to create a 'Stanley Goodspeed' regurgitation of Nicholas Cage and launch the whole convoluted mess forward with a series of high octane, but disconnected misadventures.<br /><br />The relevancy and logic to having George Washington and his motley crew of patriots burying a king's ransom someplace on native soil, and then, going through the meticulous plan of leaving clues scattered throughout U.S. currency art work, is something that director Jon Turteltaub never quite gets around to explaining. Couldn't Washington found better usage for such wealth during the start up of the country? Hence, we are left with a mystery built on top of an enigma that is already on shaky ground by the time Ben appoints himself the new custodian of this untold wealth. Ben's intentions are noble \\u0096 if confusing. He's set on protecting the treasure. For who and when?\\u0085your guess is as good as mine.<br /><br />But there are a few problems with Ben's crusade. First up, his friend, Ian Holmes (Sean Bean) decides that he can't wait for Ben to make up his mind about stealing the Declaration of Independence from the National Archives (oh, yeah \\u0096 brilliant idea!). Presumably, the back of that famous document holds the secret answer to the ultimate fortune. So Ian tries to kill Ben. The assassination attempt is, of course, unsuccessful, if overly melodramatic. It also affords Ben the opportunity to pick up, and pick on, the very sultry curator of the archives, Abigail Chase (Diane Kruger). She thinks Ben is clearly a nut \\u0096 at least at the beginning. But true to action/romance form, Abby's resolve melts quicker than you can say, \\\"is that the Hope Diamond?\\\" The film moves into full X-File-ish mode, as the FBI, mistakenly believing that Ben is behind the theft, retaliate in various benign ways that lead to a multi-layering of action sequences reminiscent of Mission Impossible meets The Fugitive. Honestly, don't those guys ever get 'intelligence' information that is correct? In the final analysis, \\\"National Treasure\\\" isn't great film making, so much as it's a patchwork rehash of tired old bits from other movies, woven together from scraps, the likes of which would make IL' Betsy Ross blush.<br /><br />The Buena Vista DVD delivers a far more generous treatment than this film is deserving of. The anamorphic widescreen picture exhibits a very smooth and finely detailed image with very rich colors, natural flesh tones, solid blacks and clean whites. The stylized image is also free of blemishes and digital enhancements. The audio is 5.1 and delivers a nice sonic boom to your side and rear speakers with intensity and realism. Extras include a host of promotional junket material that is rather deep and over the top in its explanation of how and why this film was made. If only, as an audience, we had had more clarification as to why Ben and co. were chasing after an illusive treasure, this might have been one good flick. Extras conclude with the theatrical trailer, audio commentary and deleted scenes. Not for the faint-hearted \\u0096 just the thick-headed.\"\n        ],\n        \"semantic_type\": \"\",\n        \"description\": \"\"\n      }\n    },\n    {\n      \"column\": \"sentiment\",\n      \"properties\": {\n        \"dtype\": \"number\",\n        \"std\": 0,\n        \"min\": 0,\n        \"max\": 1,\n        \"num_unique_values\": 2,\n        \"samples\": [\n          0,\n          1\n        ],\n        \"semantic_type\": \"\",\n        \"description\": \"\"\n      }\n    },\n    {\n      \"column\": \"length\",\n      \"properties\": {\n        \"dtype\": \"number\",\n        \"std\": 990,\n        \"min\": 32,\n        \"max\": 13704,\n        \"num_unique_values\": 4801,\n        \"samples\": [\n          734,\n          3342\n        ],\n        \"semantic_type\": \"\",\n        \"description\": \"\"\n      }\n    }\n  ]\n}"
            }
          },
          "metadata": {},
          "execution_count": 27
        }
      ],
      "source": [
        "reviews.head()"
      ]
    },
    {
      "cell_type": "code",
      "source": [
        "reviews.describe()"
      ],
      "metadata": {
        "colab": {
          "base_uri": "https://localhost:8080/",
          "height": 300
        },
        "id": "c-J6XNvp-OB5",
        "outputId": "25f69a6d-e824-4683-d37b-27a62e1ed586"
      },
      "execution_count": 28,
      "outputs": [
        {
          "output_type": "execute_result",
          "data": {
            "text/plain": [
              "          sentiment        length\n",
              "count  49582.000000  49582.000000\n",
              "mean       0.501876   1310.568230\n",
              "std        0.500002    990.762238\n",
              "min        0.000000     32.000000\n",
              "25%        0.000000    699.000000\n",
              "50%        1.000000    971.000000\n",
              "75%        1.000000   1592.000000\n",
              "max        1.000000  13704.000000"
            ],
            "text/html": [
              "\n",
              "  <div id=\"df-8517c60c-82fd-4f48-b0b6-ea8517505481\" class=\"colab-df-container\">\n",
              "    <div>\n",
              "<style scoped>\n",
              "    .dataframe tbody tr th:only-of-type {\n",
              "        vertical-align: middle;\n",
              "    }\n",
              "\n",
              "    .dataframe tbody tr th {\n",
              "        vertical-align: top;\n",
              "    }\n",
              "\n",
              "    .dataframe thead th {\n",
              "        text-align: right;\n",
              "    }\n",
              "</style>\n",
              "<table border=\"1\" class=\"dataframe\">\n",
              "  <thead>\n",
              "    <tr style=\"text-align: right;\">\n",
              "      <th></th>\n",
              "      <th>sentiment</th>\n",
              "      <th>length</th>\n",
              "    </tr>\n",
              "  </thead>\n",
              "  <tbody>\n",
              "    <tr>\n",
              "      <th>count</th>\n",
              "      <td>49582.000000</td>\n",
              "      <td>49582.000000</td>\n",
              "    </tr>\n",
              "    <tr>\n",
              "      <th>mean</th>\n",
              "      <td>0.501876</td>\n",
              "      <td>1310.568230</td>\n",
              "    </tr>\n",
              "    <tr>\n",
              "      <th>std</th>\n",
              "      <td>0.500002</td>\n",
              "      <td>990.762238</td>\n",
              "    </tr>\n",
              "    <tr>\n",
              "      <th>min</th>\n",
              "      <td>0.000000</td>\n",
              "      <td>32.000000</td>\n",
              "    </tr>\n",
              "    <tr>\n",
              "      <th>25%</th>\n",
              "      <td>0.000000</td>\n",
              "      <td>699.000000</td>\n",
              "    </tr>\n",
              "    <tr>\n",
              "      <th>50%</th>\n",
              "      <td>1.000000</td>\n",
              "      <td>971.000000</td>\n",
              "    </tr>\n",
              "    <tr>\n",
              "      <th>75%</th>\n",
              "      <td>1.000000</td>\n",
              "      <td>1592.000000</td>\n",
              "    </tr>\n",
              "    <tr>\n",
              "      <th>max</th>\n",
              "      <td>1.000000</td>\n",
              "      <td>13704.000000</td>\n",
              "    </tr>\n",
              "  </tbody>\n",
              "</table>\n",
              "</div>\n",
              "    <div class=\"colab-df-buttons\">\n",
              "\n",
              "  <div class=\"colab-df-container\">\n",
              "    <button class=\"colab-df-convert\" onclick=\"convertToInteractive('df-8517c60c-82fd-4f48-b0b6-ea8517505481')\"\n",
              "            title=\"Convert this dataframe to an interactive table.\"\n",
              "            style=\"display:none;\">\n",
              "\n",
              "  <svg xmlns=\"http://www.w3.org/2000/svg\" height=\"24px\" viewBox=\"0 -960 960 960\">\n",
              "    <path d=\"M120-120v-720h720v720H120Zm60-500h600v-160H180v160Zm220 220h160v-160H400v160Zm0 220h160v-160H400v160ZM180-400h160v-160H180v160Zm440 0h160v-160H620v160ZM180-180h160v-160H180v160Zm440 0h160v-160H620v160Z\"/>\n",
              "  </svg>\n",
              "    </button>\n",
              "\n",
              "  <style>\n",
              "    .colab-df-container {\n",
              "      display:flex;\n",
              "      gap: 12px;\n",
              "    }\n",
              "\n",
              "    .colab-df-convert {\n",
              "      background-color: #E8F0FE;\n",
              "      border: none;\n",
              "      border-radius: 50%;\n",
              "      cursor: pointer;\n",
              "      display: none;\n",
              "      fill: #1967D2;\n",
              "      height: 32px;\n",
              "      padding: 0 0 0 0;\n",
              "      width: 32px;\n",
              "    }\n",
              "\n",
              "    .colab-df-convert:hover {\n",
              "      background-color: #E2EBFA;\n",
              "      box-shadow: 0px 1px 2px rgba(60, 64, 67, 0.3), 0px 1px 3px 1px rgba(60, 64, 67, 0.15);\n",
              "      fill: #174EA6;\n",
              "    }\n",
              "\n",
              "    .colab-df-buttons div {\n",
              "      margin-bottom: 4px;\n",
              "    }\n",
              "\n",
              "    [theme=dark] .colab-df-convert {\n",
              "      background-color: #3B4455;\n",
              "      fill: #D2E3FC;\n",
              "    }\n",
              "\n",
              "    [theme=dark] .colab-df-convert:hover {\n",
              "      background-color: #434B5C;\n",
              "      box-shadow: 0px 1px 3px 1px rgba(0, 0, 0, 0.15);\n",
              "      filter: drop-shadow(0px 1px 2px rgba(0, 0, 0, 0.3));\n",
              "      fill: #FFFFFF;\n",
              "    }\n",
              "  </style>\n",
              "\n",
              "    <script>\n",
              "      const buttonEl =\n",
              "        document.querySelector('#df-8517c60c-82fd-4f48-b0b6-ea8517505481 button.colab-df-convert');\n",
              "      buttonEl.style.display =\n",
              "        google.colab.kernel.accessAllowed ? 'block' : 'none';\n",
              "\n",
              "      async function convertToInteractive(key) {\n",
              "        const element = document.querySelector('#df-8517c60c-82fd-4f48-b0b6-ea8517505481');\n",
              "        const dataTable =\n",
              "          await google.colab.kernel.invokeFunction('convertToInteractive',\n",
              "                                                    [key], {});\n",
              "        if (!dataTable) return;\n",
              "\n",
              "        const docLinkHtml = 'Like what you see? Visit the ' +\n",
              "          '<a target=\"_blank\" href=https://colab.research.google.com/notebooks/data_table.ipynb>data table notebook</a>'\n",
              "          + ' to learn more about interactive tables.';\n",
              "        element.innerHTML = '';\n",
              "        dataTable['output_type'] = 'display_data';\n",
              "        await google.colab.output.renderOutput(dataTable, element);\n",
              "        const docLink = document.createElement('div');\n",
              "        docLink.innerHTML = docLinkHtml;\n",
              "        element.appendChild(docLink);\n",
              "      }\n",
              "    </script>\n",
              "  </div>\n",
              "\n",
              "\n",
              "<div id=\"df-c09f144e-c3e2-43f5-b5ef-f91e03ffb3a9\">\n",
              "  <button class=\"colab-df-quickchart\" onclick=\"quickchart('df-c09f144e-c3e2-43f5-b5ef-f91e03ffb3a9')\"\n",
              "            title=\"Suggest charts\"\n",
              "            style=\"display:none;\">\n",
              "\n",
              "<svg xmlns=\"http://www.w3.org/2000/svg\" height=\"24px\"viewBox=\"0 0 24 24\"\n",
              "     width=\"24px\">\n",
              "    <g>\n",
              "        <path d=\"M19 3H5c-1.1 0-2 .9-2 2v14c0 1.1.9 2 2 2h14c1.1 0 2-.9 2-2V5c0-1.1-.9-2-2-2zM9 17H7v-7h2v7zm4 0h-2V7h2v10zm4 0h-2v-4h2v4z\"/>\n",
              "    </g>\n",
              "</svg>\n",
              "  </button>\n",
              "\n",
              "<style>\n",
              "  .colab-df-quickchart {\n",
              "      --bg-color: #E8F0FE;\n",
              "      --fill-color: #1967D2;\n",
              "      --hover-bg-color: #E2EBFA;\n",
              "      --hover-fill-color: #174EA6;\n",
              "      --disabled-fill-color: #AAA;\n",
              "      --disabled-bg-color: #DDD;\n",
              "  }\n",
              "\n",
              "  [theme=dark] .colab-df-quickchart {\n",
              "      --bg-color: #3B4455;\n",
              "      --fill-color: #D2E3FC;\n",
              "      --hover-bg-color: #434B5C;\n",
              "      --hover-fill-color: #FFFFFF;\n",
              "      --disabled-bg-color: #3B4455;\n",
              "      --disabled-fill-color: #666;\n",
              "  }\n",
              "\n",
              "  .colab-df-quickchart {\n",
              "    background-color: var(--bg-color);\n",
              "    border: none;\n",
              "    border-radius: 50%;\n",
              "    cursor: pointer;\n",
              "    display: none;\n",
              "    fill: var(--fill-color);\n",
              "    height: 32px;\n",
              "    padding: 0;\n",
              "    width: 32px;\n",
              "  }\n",
              "\n",
              "  .colab-df-quickchart:hover {\n",
              "    background-color: var(--hover-bg-color);\n",
              "    box-shadow: 0 1px 2px rgba(60, 64, 67, 0.3), 0 1px 3px 1px rgba(60, 64, 67, 0.15);\n",
              "    fill: var(--button-hover-fill-color);\n",
              "  }\n",
              "\n",
              "  .colab-df-quickchart-complete:disabled,\n",
              "  .colab-df-quickchart-complete:disabled:hover {\n",
              "    background-color: var(--disabled-bg-color);\n",
              "    fill: var(--disabled-fill-color);\n",
              "    box-shadow: none;\n",
              "  }\n",
              "\n",
              "  .colab-df-spinner {\n",
              "    border: 2px solid var(--fill-color);\n",
              "    border-color: transparent;\n",
              "    border-bottom-color: var(--fill-color);\n",
              "    animation:\n",
              "      spin 1s steps(1) infinite;\n",
              "  }\n",
              "\n",
              "  @keyframes spin {\n",
              "    0% {\n",
              "      border-color: transparent;\n",
              "      border-bottom-color: var(--fill-color);\n",
              "      border-left-color: var(--fill-color);\n",
              "    }\n",
              "    20% {\n",
              "      border-color: transparent;\n",
              "      border-left-color: var(--fill-color);\n",
              "      border-top-color: var(--fill-color);\n",
              "    }\n",
              "    30% {\n",
              "      border-color: transparent;\n",
              "      border-left-color: var(--fill-color);\n",
              "      border-top-color: var(--fill-color);\n",
              "      border-right-color: var(--fill-color);\n",
              "    }\n",
              "    40% {\n",
              "      border-color: transparent;\n",
              "      border-right-color: var(--fill-color);\n",
              "      border-top-color: var(--fill-color);\n",
              "    }\n",
              "    60% {\n",
              "      border-color: transparent;\n",
              "      border-right-color: var(--fill-color);\n",
              "    }\n",
              "    80% {\n",
              "      border-color: transparent;\n",
              "      border-right-color: var(--fill-color);\n",
              "      border-bottom-color: var(--fill-color);\n",
              "    }\n",
              "    90% {\n",
              "      border-color: transparent;\n",
              "      border-bottom-color: var(--fill-color);\n",
              "    }\n",
              "  }\n",
              "</style>\n",
              "\n",
              "  <script>\n",
              "    async function quickchart(key) {\n",
              "      const quickchartButtonEl =\n",
              "        document.querySelector('#' + key + ' button');\n",
              "      quickchartButtonEl.disabled = true;  // To prevent multiple clicks.\n",
              "      quickchartButtonEl.classList.add('colab-df-spinner');\n",
              "      try {\n",
              "        const charts = await google.colab.kernel.invokeFunction(\n",
              "            'suggestCharts', [key], {});\n",
              "      } catch (error) {\n",
              "        console.error('Error during call to suggestCharts:', error);\n",
              "      }\n",
              "      quickchartButtonEl.classList.remove('colab-df-spinner');\n",
              "      quickchartButtonEl.classList.add('colab-df-quickchart-complete');\n",
              "    }\n",
              "    (() => {\n",
              "      let quickchartButtonEl =\n",
              "        document.querySelector('#df-c09f144e-c3e2-43f5-b5ef-f91e03ffb3a9 button');\n",
              "      quickchartButtonEl.style.display =\n",
              "        google.colab.kernel.accessAllowed ? 'block' : 'none';\n",
              "    })();\n",
              "  </script>\n",
              "</div>\n",
              "\n",
              "    </div>\n",
              "  </div>\n"
            ],
            "application/vnd.google.colaboratory.intrinsic+json": {
              "type": "dataframe",
              "summary": "{\n  \"name\": \"reviews\",\n  \"rows\": 8,\n  \"fields\": [\n    {\n      \"column\": \"sentiment\",\n      \"properties\": {\n        \"dtype\": \"number\",\n        \"std\": 17529.68209202043,\n        \"min\": 0.0,\n        \"max\": 49582.0,\n        \"num_unique_values\": 5,\n        \"samples\": [\n          0.5018756806905732,\n          1.0,\n          0.5000015240027554\n        ],\n        \"semantic_type\": \"\",\n        \"description\": \"\"\n      }\n    },\n    {\n      \"column\": \"length\",\n      \"properties\": {\n        \"dtype\": \"number\",\n        \"std\": 17153.7615950516,\n        \"min\": 32.0,\n        \"max\": 49582.0,\n        \"num_unique_values\": 8,\n        \"samples\": [\n          1310.5682304061959,\n          971.0,\n          49582.0\n        ],\n        \"semantic_type\": \"\",\n        \"description\": \"\"\n      }\n    }\n  ]\n}"
            }
          },
          "metadata": {},
          "execution_count": 28
        }
      ]
    },
    {
      "cell_type": "code",
      "source": [
        "\n",
        "reviews_list = reviews.review.to_list()"
      ],
      "metadata": {
        "id": "u66CgEvu-gqP"
      },
      "execution_count": 29,
      "outputs": []
    },
    {
      "cell_type": "code",
      "source": [
        "len(reviews_list[0].split())"
      ],
      "metadata": {
        "colab": {
          "base_uri": "https://localhost:8080/"
        },
        "id": "rxh6mxFY-8am",
        "outputId": "d868a65f-a990-41d3-fecd-352d5653b7e0"
      },
      "execution_count": 30,
      "outputs": [
        {
          "output_type": "execute_result",
          "data": {
            "text/plain": [
              "307"
            ]
          },
          "metadata": {},
          "execution_count": 30
        }
      ]
    },
    {
      "cell_type": "code",
      "execution_count": 31,
      "metadata": {
        "id": "kiw9nYtyxnh_"
      },
      "outputs": [],
      "source": [
        "reviews.to_csv(\"clean.csv\", index=False)"
      ]
    },
    {
      "cell_type": "code",
      "execution_count": 32,
      "metadata": {
        "id": "WmqnmxrI9jOz"
      },
      "outputs": [],
      "source": [
        "for i in range(len(reviews_list)):\n",
        "    words = reviews_list[i].split()\n",
        "    if len(words) > 200:\n",
        "        reviews_list[i] = ' '.join(words[:200])"
      ]
    },
    {
      "cell_type": "markdown",
      "source": [
        "Crearing Tokenizer"
      ],
      "metadata": {
        "id": "okOt98guQll5"
      }
    },
    {
      "cell_type": "code",
      "source": [
        "from tensorflow.keras.preprocessing.text import Tokenizer"
      ],
      "metadata": {
        "id": "_bCInaQA_ZRE"
      },
      "execution_count": 33,
      "outputs": []
    },
    {
      "cell_type": "code",
      "source": [
        "tokenizer = Tokenizer()"
      ],
      "metadata": {
        "id": "-DYMby30_dWD"
      },
      "execution_count": 34,
      "outputs": []
    },
    {
      "cell_type": "code",
      "source": [
        "len(reviews_list)"
      ],
      "metadata": {
        "colab": {
          "base_uri": "https://localhost:8080/"
        },
        "id": "RIpnwKKK_zUK",
        "outputId": "aa58fc74-6876-4ba9-c39b-12eade3e71a0"
      },
      "execution_count": 35,
      "outputs": [
        {
          "output_type": "execute_result",
          "data": {
            "text/plain": [
              "49582"
            ]
          },
          "metadata": {},
          "execution_count": 35
        }
      ]
    },
    {
      "cell_type": "code",
      "source": [
        "tokenizer.fit_on_texts(reviews_list)"
      ],
      "metadata": {
        "id": "wY8GtaOZ_gi4"
      },
      "execution_count": 36,
      "outputs": []
    },
    {
      "cell_type": "code",
      "source": [
        "len(tokenizer.word_index)"
      ],
      "metadata": {
        "colab": {
          "base_uri": "https://localhost:8080/"
        },
        "id": "o5ATR2WbF7Cs",
        "outputId": "3f0bc22c-03ad-40de-ea3c-127d63b01ab9"
      },
      "execution_count": 37,
      "outputs": [
        {
          "output_type": "execute_result",
          "data": {
            "text/plain": [
              "103342"
            ]
          },
          "metadata": {},
          "execution_count": 37
        }
      ]
    },
    {
      "cell_type": "code",
      "source": [
        "X = tokenizer.texts_to_sequences(reviews_list)"
      ],
      "metadata": {
        "id": "gSL_dj8-BaK_"
      },
      "execution_count": 38,
      "outputs": []
    },
    {
      "cell_type": "code",
      "source": [
        "Y = reviews.sentiment.to_list()"
      ],
      "metadata": {
        "id": "iwEtvJ8ABev2"
      },
      "execution_count": 39,
      "outputs": []
    },
    {
      "cell_type": "code",
      "execution_count": 40,
      "metadata": {
        "colab": {
          "base_uri": "https://localhost:8080/"
        },
        "id": "RtxgmFo4KDll",
        "outputId": "7d103c06-0a2c-41a2-b9f4-2e83b5b72e3b"
      },
      "outputs": [
        {
          "output_type": "execute_result",
          "data": {
            "text/plain": [
              "(49582, 49582)"
            ]
          },
          "metadata": {},
          "execution_count": 40
        }
      ],
      "source": [
        "len(X), len(Y)"
      ]
    },
    {
      "cell_type": "code",
      "source": [
        "from tensorflow.keras.preprocessing.sequence import pad_sequences"
      ],
      "metadata": {
        "id": "igFxUFwL0gXV"
      },
      "execution_count": 41,
      "outputs": []
    },
    {
      "cell_type": "code",
      "source": [
        "X = pad_sequences(X, maxlen=200, padding='pre')"
      ],
      "metadata": {
        "id": "L8sBoTuW0jfa"
      },
      "execution_count": 42,
      "outputs": []
    },
    {
      "cell_type": "code",
      "execution_count": 43,
      "metadata": {
        "id": "bfjgU_sWJXH3"
      },
      "outputs": [],
      "source": [
        "from sklearn.model_selection import train_test_split\n",
        "train_X, val_X, train_y, val_y = train_test_split(X, Y, test_size=0.2, random_state=1)"
      ]
    },
    {
      "cell_type": "code",
      "execution_count": 44,
      "metadata": {
        "colab": {
          "base_uri": "https://localhost:8080/"
        },
        "id": "wl7Bm4xuAqBQ",
        "outputId": "d2d316fb-2205-4626-9f11-9ebdd9043217"
      },
      "outputs": [
        {
          "output_type": "execute_result",
          "data": {
            "text/plain": [
              "(9917, 9917, 39665, 39665)"
            ]
          },
          "metadata": {},
          "execution_count": 44
        }
      ],
      "source": [
        "len(val_X), len(val_y), len(train_X), len(train_y)"
      ]
    },
    {
      "cell_type": "code",
      "source": [
        "for i in train_X:\n",
        "    if len(i) > 200:\n",
        "        print(len(i))"
      ],
      "metadata": {
        "id": "qmz4ZcptD-QO"
      },
      "execution_count": 45,
      "outputs": []
    },
    {
      "cell_type": "markdown",
      "source": [
        "DataSet Class"
      ],
      "metadata": {
        "id": "lEGYREvZQrA6"
      }
    },
    {
      "cell_type": "code",
      "execution_count": 46,
      "metadata": {
        "id": "TANIKQ2YL3t7"
      },
      "outputs": [],
      "source": [
        "class CustomDataset(torch.utils.data.Dataset):\n",
        "    def __init__(self, x_data, y_data, transform=None):\n",
        "        self.reviews = x_data\n",
        "        self.labels = y_data\n",
        "        self.transform = transform\n",
        "\n",
        "    def __len__(self):\n",
        "        return len(self.reviews)\n",
        "\n",
        "    def __getitem__(self, idx):\n",
        "      try:\n",
        "        sample = {'review': self.reviews[idx], 'label': self.labels[idx]}\n",
        "      except:\n",
        "        sample = {'review': np.zeros_like(self.reviews[0]), 'label': 0}\n",
        "\n",
        "      if self.transform:\n",
        "          sample = self.transform(sample)\n",
        "\n",
        "      return sample"
      ]
    },
    {
      "cell_type": "markdown",
      "metadata": {
        "id": "GEFjVR6B1NYk"
      },
      "source": [
        "### Sequence models\n",
        "Following is an example code for simple LSTMs containing one layer. Your implementation should be generic in which user can be able to create multiple layers if required."
      ]
    },
    {
      "cell_type": "code",
      "execution_count": 47,
      "metadata": {
        "id": "zIDbMNB9J0V7"
      },
      "outputs": [],
      "source": [
        "import torch\n",
        "import torch.nn as nn\n",
        "import torch.optim as optim\n",
        "import numpy as np\n",
        "from tqdm import tqdm\n",
        "\n",
        "class LSTM(nn.Module):\n",
        "\n",
        "    def __init__(self, input_dim, hidden_dim):\n",
        "        super(LSTM, self).__init__()\n",
        "        self.input_dim  = input_dim\n",
        "        self.hidden_dim = hidden_dim\n",
        "\n",
        "        self.W_x = nn.Linear(input_dim, 4 * hidden_dim, bias=True)\n",
        "        self.W_h = nn.Linear(hidden_dim, 4 * hidden_dim, bias=True)\n",
        "\n",
        "        self.Sigmoid = nn.Sigmoid()\n",
        "        self.Tanh = nn.Tanh()\n",
        "\n",
        "    def lstm_step(self, inp, prev_hidden_cell):\n",
        "        h_prev, c_prev = prev_hidden_cell\n",
        "\n",
        "        activation = self.W_x(inp) + self.W_h(h_prev)\n",
        "\n",
        "        ai, af, ac, ao = activation.chunk(4, 1)\n",
        "\n",
        "        in_gate = self.Sigmoid(ai)\n",
        "        forget_gate = self.Sigmoid(af)\n",
        "        cell_gate = self.Tanh(ac)\n",
        "        out_gate = self.Sigmoid(ao)\n",
        "        updated_c = forget_gate * c_prev + in_gate * cell_gate\n",
        "        updated_h = out_gate * self.Tanh(updated_c)\n",
        "\n",
        "        return updated_h, updated_c\n",
        "\n",
        "    def forward(self, inp, h, c):\n",
        "        batch_size, seq_len, embedding_dim = inp.shape\n",
        "        device = inp.device\n",
        "        for t in range(seq_len):\n",
        "            x_t = inp[:, t]\n",
        "            h, c = self.lstm_step(x_t, (h, c))\n",
        "        return h, c"
      ]
    },
    {
      "cell_type": "code",
      "source": [
        "class GRU(nn.Module):\n",
        "  def __init__(self, input_dim, hidden_dim):\n",
        "    super(GRU, self).__init__()\n",
        "    self.input_dim = input_dim\n",
        "    self.hidden_dim = hidden_dim\n",
        "\n",
        "    self.W_x = nn.Linear(input_dim, 3 * hidden_dim, bias=True)\n",
        "    self.W_h = nn.Linear(hidden_dim, 3 * hidden_dim, bias=True)\n",
        "\n",
        "    self.Sigmoid = nn.Sigmoid()\n",
        "    self.Tanh = nn.Tanh()\n",
        "\n",
        "  def gru_step(self, inp, prev_hidden):\n",
        "\n",
        "    activation = self.W_x(inp) + self.W_h(prev_hidden)\n",
        "    r, z, n = activation.chunk(3, 1)\n",
        "\n",
        "    reset_gate = self.Sigmoid(r)\n",
        "    update_gate = self.Sigmoid(z)\n",
        "    new_gate = self.Tanh(n)\n",
        "\n",
        "    updated_h = (1 - update_gate) * prev_hidden + update_gate * new_gate\n",
        "    return updated_h\n",
        "\n",
        "  def forward(self, inp, h):\n",
        "    batch_size, seq_len, embedding_dim = inp.shape\n",
        "\n",
        "    device = inp.device\n",
        "    for t in range(seq_len):\n",
        "      x_t = inp[:, t]\n",
        "      h = self.gru_step(x_t, h)\n",
        "\n",
        "    return h"
      ],
      "metadata": {
        "id": "HmW1rYbvykiQ"
      },
      "execution_count": 72,
      "outputs": []
    },
    {
      "cell_type": "code",
      "source": [
        "class StackedLSTM(nn.Module):\n",
        "\n",
        "    def __init__(self, input_dim, hidden_dim, num_layers, vocab_size):\n",
        "        super(StackedLSTM, self).__init__()\n",
        "        self.input_dim = input_dim\n",
        "        self.hidden_dim = hidden_dim\n",
        "        self.num_layers = num_layers\n",
        "\n",
        "        self.drop_out = nn.Dropout(0.25)\n",
        "\n",
        "        self.embedding = nn.Embedding(vocab_size, input_dim)\n",
        "\n",
        "        self.lstm_layers = nn.ModuleList([\n",
        "            LSTM(input_dim if _ == 0 else hidden_dim, hidden_dim) for _ in range(num_layers)\n",
        "        ])\n",
        "\n",
        "        self.output_layer = nn.Linear(hidden_dim, 1)\n",
        "\n",
        "    def forward(self, inp):\n",
        "        batch_size, seq_len = inp.shape\n",
        "\n",
        "        inp = self.embedding(inp)\n",
        "        inp = self.drop_out(inp)\n",
        "\n",
        "        device = inp.device\n",
        "\n",
        "        h = torch.zeros(self.num_layers, batch_size, self.hidden_dim).to(device)\n",
        "        c = torch.zeros(self.num_layers, batch_size, self.hidden_dim).to(device)\n",
        "\n",
        "        for layer_index, layer in enumerate(self.lstm_layers):\n",
        "            h[layer_index], c[layer_index] = layer(inp, h[layer_index].clone(), c[layer_index].clone())\n",
        "            inp = h[layer_index].unsqueeze(1).repeat(1, seq_len, 1)\n",
        "\n",
        "        out = self.output_layer(h[-1])\n",
        "        return out\n"
      ],
      "metadata": {
        "id": "y9X5DXJf_-bV"
      },
      "execution_count": 49,
      "outputs": []
    },
    {
      "cell_type": "code",
      "source": [
        "class StackedGRU(nn.Module):\n",
        "\n",
        "  def __init__(self, input_dim, hidden_dim, num_layers, vocab_size):\n",
        "    super(StackedGRU, self).__init__()\n",
        "    self.input_dim = input_dim\n",
        "    self.hidden_dim = hidden_dim\n",
        "    self.num_layers = num_layers\n",
        "\n",
        "    self.drop_out = nn.Dropout(0.25)\n",
        "\n",
        "    self.embedding = nn.Embedding(vocab_size, input_dim)\n",
        "\n",
        "    self.gru_layers = nn.ModuleList([\n",
        "        GRU(input_dim if _ == 0 else hidden_dim, hidden_dim) for _ in range(num_layers)\n",
        "    ])\n",
        "\n",
        "    self.output_layer = nn.Linear(hidden_dim, 1)\n",
        "\n",
        "  def forward(self, inp):\n",
        "    batch_size, seq_len = inp.shape\n",
        "\n",
        "    inp = self.embedding(inp)\n",
        "    inp = self.drop_out(inp)\n",
        "\n",
        "    device = inp.device\n",
        "\n",
        "    h = torch.zeros(self.num_layers, batch_size, self.hidden_dim).to(device)\n",
        "\n",
        "    for layer_index, layer in enumerate(self.gru_layers):\n",
        "      h[layer_index] = layer(inp, h[layer_index].clone())\n",
        "      inp = h[layer_index].unsqueeze(1).repeat(1, seq_len, 1)\n",
        "\n",
        "    out = self.output_layer(h[-1])\n",
        "    return out"
      ],
      "metadata": {
        "id": "n3DsHJJPDeMq"
      },
      "execution_count": 76,
      "outputs": []
    },
    {
      "cell_type": "markdown",
      "metadata": {
        "id": "Upzqafqq_OlV"
      },
      "source": [
        "# Train"
      ]
    },
    {
      "cell_type": "code",
      "execution_count": 51,
      "metadata": {
        "id": "xlt87FNOCSgA"
      },
      "outputs": [],
      "source": [
        "from tqdm import tqdm"
      ]
    },
    {
      "cell_type": "code",
      "execution_count": 52,
      "metadata": {
        "id": "No83BJPLCxzp"
      },
      "outputs": [],
      "source": [
        "device = torch.device('cuda' if torch.cuda.is_available() else 'cpu')"
      ]
    },
    {
      "cell_type": "code",
      "execution_count": 53,
      "metadata": {
        "colab": {
          "base_uri": "https://localhost:8080/"
        },
        "id": "HAYpsDZFOKt6",
        "outputId": "7fee16ad-c238-45bf-c85d-418a6c7537f8"
      },
      "outputs": [
        {
          "output_type": "execute_result",
          "data": {
            "text/plain": [
              "device(type='cuda')"
            ]
          },
          "metadata": {},
          "execution_count": 53
        }
      ],
      "source": [
        "device"
      ]
    },
    {
      "cell_type": "code",
      "execution_count": 54,
      "metadata": {
        "id": "lKgJwTzK_Q0A"
      },
      "outputs": [],
      "source": [
        "import torch\n",
        "import numpy as np\n",
        "from tqdm import tqdm\n",
        "\n",
        "def train(model, num_epochs, criterion, optimizer, train_loader, val_loader, device):\n",
        "    history = {'train_loss': [], 'val_loss': [], 'train_accuracy': [], 'val_accuracy': [], 'best_accuracy': -np.inf, 'min_loss': np.inf}\n",
        "\n",
        "    for epoch in range(num_epochs):\n",
        "        model.train()\n",
        "        train_loss, train_corrects = 0, 0\n",
        "\n",
        "        outer = tqdm(total=len(train_loader.dataset), desc=f'Train Epoch: {epoch + 1} / {num_epochs}')\n",
        "        for batch in train_loader:\n",
        "            try:\n",
        "                inputs = batch['review'].to(device).long()\n",
        "                labels = batch['label'].view(-1, 1).to(device).float()  # Convert labels to float\n",
        "\n",
        "                optimizer.zero_grad()\n",
        "                output = model(inputs)\n",
        "\n",
        "                loss = criterion(output, labels)\n",
        "                loss.backward()\n",
        "                optimizer.step()\n",
        "\n",
        "                train_loss += loss.item()\n",
        "\n",
        "                # Use sigmoid to convert outputs to probabilities\n",
        "                output_probs = torch.sigmoid(output)\n",
        "                predicted = (output_probs > 0.5).float()  # Binary classification\n",
        "                train_corrects += (predicted == labels).sum().item()\n",
        "\n",
        "                outer.update(len(inputs))\n",
        "            except Exception as e:\n",
        "                print(f\"Error: {e}\")\n",
        "                outer.update(len(inputs))\n",
        "\n",
        "        outer.close()\n",
        "\n",
        "        train_accuracy = 100. * train_corrects / len(train_loader.dataset)\n",
        "        train_loss /= len(train_loader)\n",
        "        print(f\"Train Loss: {train_loss:.4f}\")\n",
        "        print(f\"Train Accuracy: {train_accuracy:.2f}%\")\n",
        "\n",
        "        history['train_loss'].append(train_loss)\n",
        "        history['train_accuracy'].append(train_accuracy)\n",
        "\n",
        "        # Save the model state\n",
        "        torch.save(model.state_dict(), f'model_epoch_{epoch+1}.pth')\n",
        "\n",
        "        # Validation\n",
        "        model.eval()\n",
        "        val_loss, val_corrects = 0, 0\n",
        "\n",
        "        with torch.no_grad():\n",
        "            outer = tqdm(total=len(val_loader.dataset), desc='Validating')\n",
        "            for batch in val_loader:\n",
        "                inputs = batch['review'].to(device).long()\n",
        "                labels = batch['label'].view(-1, 1).to(device).float()  # Convert labels to float\n",
        "\n",
        "                output = model(inputs)\n",
        "                loss = criterion(output, labels)\n",
        "\n",
        "                val_loss += loss.item()\n",
        "\n",
        "                # Use sigmoid to convert outputs to probabilities\n",
        "                output_probs = torch.sigmoid(output)\n",
        "                predicted = (output_probs > 0.5).float()  # Binary classification\n",
        "                val_corrects += (predicted == labels).sum().item()\n",
        "\n",
        "                outer.update(len(inputs))\n",
        "\n",
        "            outer.close()\n",
        "\n",
        "            val_accuracy = 100. * val_corrects / len(val_loader.dataset)\n",
        "            val_loss /= len(val_loader)\n",
        "            print(f\"Val Loss: {val_loss:.4f}\")\n",
        "            print(f\"Val Accuracy: {val_accuracy:.2f}%\")\n",
        "\n",
        "            history['val_loss'].append(val_loss)\n",
        "            history['val_accuracy'].append(val_accuracy)\n",
        "\n",
        "            if val_accuracy > history['best_accuracy']:\n",
        "                history['best_accuracy'] = val_accuracy\n",
        "\n",
        "            if val_loss < history['min_loss']:\n",
        "                history['min_loss'] = val_loss\n",
        "\n",
        "    return history"
      ]
    },
    {
      "cell_type": "code",
      "execution_count": 55,
      "metadata": {
        "id": "qUk_HY6RA2Pe"
      },
      "outputs": [],
      "source": [
        "trainLoader = CustomDataset(train_X, train_y)\n",
        "valLoader = CustomDataset(val_X, val_y)\n",
        "# testLoader = CustomDataset(test_x, test_y, transform)"
      ]
    },
    {
      "cell_type": "code",
      "execution_count": 56,
      "metadata": {
        "id": "A069QqscBubS"
      },
      "outputs": [],
      "source": [
        "train_loader = torch.utils.data.DataLoader(trainLoader, batch_size=256, shuffle=True, drop_last = True)\n",
        "val_loader = torch.utils.data.DataLoader(valLoader, batch_size=256, shuffle=True, drop_last= True)\n",
        "# test_loader = torch.utils.data.DataLoader(testLoader, batch_size=32, shuffle=True)"
      ]
    },
    {
      "cell_type": "code",
      "execution_count": 57,
      "metadata": {
        "id": "wyUs8y-_rb4e"
      },
      "outputs": [],
      "source": [
        "criterion = nn.BCEWithLogitsLoss()\n",
        "lstm_model = StackedLSTM(200,256, 3, 103343)"
      ]
    },
    {
      "cell_type": "code",
      "source": [
        "# import torch\n",
        "# print(torch.cuda.is_available())\n",
        "# print(torch.cuda.current_device())\n",
        "# print(torch.cuda.get_device_name(torch.cuda.current_device()))\n"
      ],
      "metadata": {
        "id": "vKvPNhNBIC5C"
      },
      "execution_count": 58,
      "outputs": []
    },
    {
      "cell_type": "code",
      "source": [
        "lstm_model.to(device)"
      ],
      "metadata": {
        "colab": {
          "base_uri": "https://localhost:8080/"
        },
        "id": "hgpW4pCqHjf-",
        "outputId": "89a9238e-6c32-437a-f815-617dbc1fdaf3"
      },
      "execution_count": 59,
      "outputs": [
        {
          "output_type": "execute_result",
          "data": {
            "text/plain": [
              "StackedLSTM(\n",
              "  (drop_out): Dropout(p=0.25, inplace=False)\n",
              "  (embedding): Embedding(103343, 200)\n",
              "  (lstm_layers): ModuleList(\n",
              "    (0): LSTM(\n",
              "      (W_x): Linear(in_features=200, out_features=1024, bias=True)\n",
              "      (W_h): Linear(in_features=256, out_features=1024, bias=True)\n",
              "      (Sigmoid): Sigmoid()\n",
              "      (Tanh): Tanh()\n",
              "    )\n",
              "    (1-2): 2 x LSTM(\n",
              "      (W_x): Linear(in_features=256, out_features=1024, bias=True)\n",
              "      (W_h): Linear(in_features=256, out_features=1024, bias=True)\n",
              "      (Sigmoid): Sigmoid()\n",
              "      (Tanh): Tanh()\n",
              "    )\n",
              "  )\n",
              "  (output_layer): Linear(in_features=256, out_features=1, bias=True)\n",
              ")"
            ]
          },
          "metadata": {},
          "execution_count": 59
        }
      ]
    },
    {
      "cell_type": "code",
      "source": [
        "optimizer = torch.optim.Adam(lstm_model.parameters(), lr=0.001)\n",
        "device = torch.device('cuda' if torch.cuda.is_available() else 'cpu')\n",
        "device\n",
        "lstm_history = train(lstm_model, 10, criterion, optimizer, train_loader, val_loader, device)"
      ],
      "metadata": {
        "colab": {
          "base_uri": "https://localhost:8080/"
        },
        "id": "2fFx3XDOHphL",
        "outputId": "41c7c2a1-1a3a-4238-9e2c-de2a26498750"
      },
      "execution_count": 60,
      "outputs": [
        {
          "metadata": {
            "tags": null
          },
          "name": "stderr",
          "output_type": "stream",
          "text": [
            "Train Epoch: 1 / 10:  99%|█████████▉| 39424/39665 [03:11<00:01, 205.77it/s]\n"
          ]
        },
        {
          "metadata": {
            "tags": null
          },
          "name": "stdout",
          "output_type": "stream",
          "text": [
            "Train Loss: 0.6417\n",
            "Train Accuracy: 61.41%\n"
          ]
        },
        {
          "metadata": {
            "tags": null
          },
          "name": "stderr",
          "output_type": "stream",
          "text": [
            "Validating:  98%|█████████▊| 9728/9917 [00:05<00:00, 1665.38it/s]\n"
          ]
        },
        {
          "metadata": {
            "tags": null
          },
          "name": "stdout",
          "output_type": "stream",
          "text": [
            "Val Loss: 0.7204\n",
            "Val Accuracy: 60.57%\n"
          ]
        },
        {
          "metadata": {
            "tags": null
          },
          "name": "stderr",
          "output_type": "stream",
          "text": [
            "Train Epoch: 2 / 10:  99%|█████████▉| 39424/39665 [03:07<00:01, 210.65it/s]\n"
          ]
        },
        {
          "metadata": {
            "tags": null
          },
          "name": "stdout",
          "output_type": "stream",
          "text": [
            "Train Loss: 0.5077\n",
            "Train Accuracy: 76.08%\n"
          ]
        },
        {
          "metadata": {
            "tags": null
          },
          "name": "stderr",
          "output_type": "stream",
          "text": [
            "Validating:  98%|█████████▊| 9728/9917 [00:06<00:00, 1614.11it/s]\n"
          ]
        },
        {
          "metadata": {
            "tags": null
          },
          "name": "stdout",
          "output_type": "stream",
          "text": [
            "Val Loss: 0.6416\n",
            "Val Accuracy: 67.83%\n"
          ]
        },
        {
          "metadata": {
            "tags": null
          },
          "name": "stderr",
          "output_type": "stream",
          "text": [
            "Train Epoch: 3 / 10:  99%|█████████▉| 39424/39665 [03:07<00:01, 210.81it/s]\n"
          ]
        },
        {
          "metadata": {
            "tags": null
          },
          "name": "stdout",
          "output_type": "stream",
          "text": [
            "Train Loss: 0.4469\n",
            "Train Accuracy: 79.56%\n"
          ]
        },
        {
          "metadata": {
            "tags": null
          },
          "name": "stderr",
          "output_type": "stream",
          "text": [
            "Validating:  98%|█████████▊| 9728/9917 [00:06<00:00, 1389.91it/s]\n"
          ]
        },
        {
          "metadata": {
            "tags": null
          },
          "name": "stdout",
          "output_type": "stream",
          "text": [
            "Val Loss: 0.5760\n",
            "Val Accuracy: 72.38%\n"
          ]
        },
        {
          "metadata": {
            "tags": null
          },
          "name": "stderr",
          "output_type": "stream",
          "text": [
            "Train Epoch: 4 / 10:  99%|█████████▉| 39424/39665 [03:06<00:01, 211.37it/s]\n"
          ]
        },
        {
          "metadata": {
            "tags": null
          },
          "name": "stdout",
          "output_type": "stream",
          "text": [
            "Train Loss: 0.4614\n",
            "Train Accuracy: 77.98%\n"
          ]
        },
        {
          "metadata": {
            "tags": null
          },
          "name": "stderr",
          "output_type": "stream",
          "text": [
            "Validating:  98%|█████████▊| 9728/9917 [00:06<00:00, 1445.96it/s]\n"
          ]
        },
        {
          "metadata": {
            "tags": null
          },
          "name": "stdout",
          "output_type": "stream",
          "text": [
            "Val Loss: 0.5421\n",
            "Val Accuracy: 74.59%\n"
          ]
        },
        {
          "metadata": {
            "tags": null
          },
          "name": "stderr",
          "output_type": "stream",
          "text": [
            "Train Epoch: 5 / 10:  99%|█████████▉| 39424/39665 [03:06<00:01, 211.10it/s]\n"
          ]
        },
        {
          "metadata": {
            "tags": null
          },
          "name": "stdout",
          "output_type": "stream",
          "text": [
            "Train Loss: 0.3591\n",
            "Train Accuracy: 84.52%\n"
          ]
        },
        {
          "metadata": {
            "tags": null
          },
          "name": "stderr",
          "output_type": "stream",
          "text": [
            "Validating:  98%|█████████▊| 9728/9917 [00:05<00:00, 1774.91it/s]\n"
          ]
        },
        {
          "metadata": {
            "tags": null
          },
          "name": "stdout",
          "output_type": "stream",
          "text": [
            "Val Loss: 0.4193\n",
            "Val Accuracy: 82.54%\n"
          ]
        },
        {
          "metadata": {
            "tags": null
          },
          "name": "stderr",
          "output_type": "stream",
          "text": [
            "Train Epoch: 6 / 10:  99%|█████████▉| 39424/39665 [03:06<00:01, 211.24it/s]\n"
          ]
        },
        {
          "metadata": {
            "tags": null
          },
          "name": "stdout",
          "output_type": "stream",
          "text": [
            "Train Loss: 0.2868\n",
            "Train Accuracy: 87.99%\n"
          ]
        },
        {
          "metadata": {
            "tags": null
          },
          "name": "stderr",
          "output_type": "stream",
          "text": [
            "Validating:  98%|█████████▊| 9728/9917 [00:05<00:00, 1754.40it/s]\n"
          ]
        },
        {
          "metadata": {
            "tags": null
          },
          "name": "stdout",
          "output_type": "stream",
          "text": [
            "Val Loss: 0.4435\n",
            "Val Accuracy: 82.68%\n"
          ]
        },
        {
          "metadata": {
            "tags": null
          },
          "name": "stderr",
          "output_type": "stream",
          "text": [
            "Train Epoch: 7 / 10:  99%|█████████▉| 39424/39665 [03:07<00:01, 210.46it/s]\n"
          ]
        },
        {
          "metadata": {
            "tags": null
          },
          "name": "stdout",
          "output_type": "stream",
          "text": [
            "Train Loss: 0.2456\n",
            "Train Accuracy: 89.63%\n"
          ]
        },
        {
          "metadata": {
            "tags": null
          },
          "name": "stderr",
          "output_type": "stream",
          "text": [
            "Validating:  98%|█████████▊| 9728/9917 [00:05<00:00, 1762.78it/s]\n"
          ]
        },
        {
          "metadata": {
            "tags": null
          },
          "name": "stdout",
          "output_type": "stream",
          "text": [
            "Val Loss: 0.4049\n",
            "Val Accuracy: 84.26%\n"
          ]
        },
        {
          "metadata": {
            "tags": null
          },
          "name": "stderr",
          "output_type": "stream",
          "text": [
            "Train Epoch: 8 / 10:  99%|█████████▉| 39424/39665 [03:06<00:01, 211.08it/s]\n"
          ]
        },
        {
          "metadata": {
            "tags": null
          },
          "name": "stdout",
          "output_type": "stream",
          "text": [
            "Train Loss: 0.2164\n",
            "Train Accuracy: 91.08%\n"
          ]
        },
        {
          "metadata": {
            "tags": null
          },
          "name": "stderr",
          "output_type": "stream",
          "text": [
            "Validating:  98%|█████████▊| 9728/9917 [00:06<00:00, 1570.07it/s]\n"
          ]
        },
        {
          "metadata": {
            "tags": null
          },
          "name": "stdout",
          "output_type": "stream",
          "text": [
            "Val Loss: 0.4643\n",
            "Val Accuracy: 83.57%\n"
          ]
        },
        {
          "output_type": "stream",
          "name": "stderr",
          "text": [
            "Train Epoch: 9 / 10:  99%|█████████▉| 39424/39665 [03:07<00:01, 210.43it/s]\n"
          ]
        },
        {
          "output_type": "stream",
          "name": "stdout",
          "text": [
            "Train Loss: 0.1778\n",
            "Train Accuracy: 92.67%\n"
          ]
        },
        {
          "output_type": "stream",
          "name": "stderr",
          "text": [
            "Validating:  98%|█████████▊| 9728/9917 [00:06<00:00, 1442.84it/s]\n"
          ]
        },
        {
          "output_type": "stream",
          "name": "stdout",
          "text": [
            "Val Loss: 0.4215\n",
            "Val Accuracy: 84.73%\n"
          ]
        },
        {
          "output_type": "stream",
          "name": "stderr",
          "text": [
            "Train Epoch: 10 / 10:  99%|█████████▉| 39424/39665 [03:06<00:01, 210.91it/s]\n"
          ]
        },
        {
          "output_type": "stream",
          "name": "stdout",
          "text": [
            "Train Loss: 0.1691\n",
            "Train Accuracy: 93.07%\n"
          ]
        },
        {
          "output_type": "stream",
          "name": "stderr",
          "text": [
            "Validating:  98%|█████████▊| 9728/9917 [00:06<00:00, 1515.29it/s]"
          ]
        },
        {
          "output_type": "stream",
          "name": "stdout",
          "text": [
            "Val Loss: 0.4225\n",
            "Val Accuracy: 85.35%\n"
          ]
        },
        {
          "output_type": "stream",
          "name": "stderr",
          "text": [
            "\n"
          ]
        }
      ]
    },
    {
      "cell_type": "code",
      "source": [
        "with open (\"lstm_results.json\", \"w\") as f:\n",
        "    import json\n",
        "    json.dump(lstm_history, f)"
      ],
      "metadata": {
        "id": "nE4Pq1H-ScUz"
      },
      "execution_count": 62,
      "outputs": []
    },
    {
      "cell_type": "code",
      "source": [
        "gru_model = StackedGRU(200,256, 7, 103343)\n",
        "criterion = nn.BCEWithLogitsLoss()\n",
        "optimizer = torch.optim.Adam(gru_model.parameters(), lr=0.001)\n",
        "device = torch.device('cuda' if torch.cuda.is_available() else 'cpu')\n",
        "gru_model.to(device)"
      ],
      "metadata": {
        "colab": {
          "base_uri": "https://localhost:8080/"
        },
        "id": "KiH2eRQz5jKv",
        "outputId": "ea27a6ce-8107-44ef-b68c-850e007ec01a"
      },
      "execution_count": 77,
      "outputs": [
        {
          "output_type": "execute_result",
          "data": {
            "text/plain": [
              "StackedGRU(\n",
              "  (drop_out): Dropout(p=0.25, inplace=False)\n",
              "  (embedding): Embedding(103343, 200)\n",
              "  (gru_layers): ModuleList(\n",
              "    (0): GRU(\n",
              "      (W_x): Linear(in_features=200, out_features=768, bias=True)\n",
              "      (W_h): Linear(in_features=256, out_features=768, bias=True)\n",
              "      (Sigmoid): Sigmoid()\n",
              "      (Tanh): Tanh()\n",
              "    )\n",
              "    (1-6): 6 x GRU(\n",
              "      (W_x): Linear(in_features=256, out_features=768, bias=True)\n",
              "      (W_h): Linear(in_features=256, out_features=768, bias=True)\n",
              "      (Sigmoid): Sigmoid()\n",
              "      (Tanh): Tanh()\n",
              "    )\n",
              "  )\n",
              "  (output_layer): Linear(in_features=256, out_features=1, bias=True)\n",
              ")"
            ]
          },
          "metadata": {},
          "execution_count": 77
        }
      ]
    },
    {
      "cell_type": "code",
      "source": [
        "gru_history = train(gru_model, 10, criterion, optimizer, train_loader, val_loader, device)"
      ],
      "metadata": {
        "colab": {
          "base_uri": "https://localhost:8080/"
        },
        "id": "2pStL9BZ1tVf",
        "outputId": "fbe6444a-a762-4770-a2d2-6e8a9b16fd52"
      },
      "execution_count": 78,
      "outputs": [
        {
          "output_type": "stream",
          "name": "stderr",
          "text": [
            "\n",
            "\n",
            "\n",
            "Train Epoch: 1 / 10:   0%|          | 0/39665 [00:00<?, ?it/s]\u001b[A\u001b[A\u001b[A\n",
            "\n",
            "\n",
            "Train Epoch: 1 / 10:   1%|          | 256/39665 [00:02<07:35, 86.58it/s]\u001b[A\u001b[A\u001b[A\n",
            "\n",
            "\n",
            "Train Epoch: 1 / 10:   1%|▏         | 512/39665 [00:05<07:18, 89.19it/s]\u001b[A\u001b[A\u001b[A\n",
            "\n",
            "\n",
            "Train Epoch: 1 / 10:   2%|▏         | 768/39665 [00:08<07:09, 90.51it/s]\u001b[A\u001b[A\u001b[A\n",
            "\n",
            "\n",
            "Train Epoch: 1 / 10:   3%|▎         | 1024/39665 [00:11<07:05, 90.82it/s]\u001b[A\u001b[A\u001b[A\n",
            "\n",
            "\n",
            "Train Epoch: 1 / 10:   3%|▎         | 1280/39665 [00:14<07:42, 83.07it/s]\u001b[A\u001b[A\u001b[A\n",
            "\n",
            "\n",
            "Train Epoch: 1 / 10:   4%|▍         | 1536/39665 [00:17<07:32, 84.35it/s]\u001b[A\u001b[A\u001b[A\n",
            "\n",
            "\n",
            "Train Epoch: 1 / 10:   5%|▍         | 1792/39665 [00:20<07:17, 86.60it/s]\u001b[A\u001b[A\u001b[A\n",
            "\n",
            "\n",
            "Train Epoch: 1 / 10:   5%|▌         | 2048/39665 [00:23<07:06, 88.15it/s]\u001b[A\u001b[A\u001b[A\n",
            "\n",
            "\n",
            "Train Epoch: 1 / 10:   6%|▌         | 2304/39665 [00:26<06:59, 89.06it/s]\u001b[A\u001b[A\u001b[A\n",
            "\n",
            "\n",
            "Train Epoch: 1 / 10:   6%|▋         | 2560/39665 [00:29<07:02, 87.76it/s]\u001b[A\u001b[A\u001b[A\n",
            "\n",
            "\n",
            "Train Epoch: 1 / 10:   7%|▋         | 2816/39665 [00:32<06:56, 88.53it/s]\u001b[A\u001b[A\u001b[A\n",
            "\n",
            "\n",
            "Train Epoch: 1 / 10:   8%|▊         | 3072/39665 [00:34<06:49, 89.43it/s]\u001b[A\u001b[A\u001b[A\n",
            "\n",
            "\n",
            "Train Epoch: 1 / 10:   8%|▊         | 3328/39665 [00:37<06:43, 90.04it/s]\u001b[A\u001b[A\u001b[A\n",
            "\n",
            "\n",
            "Train Epoch: 1 / 10:   9%|▉         | 3584/39665 [00:40<06:40, 90.17it/s]\u001b[A\u001b[A\u001b[A\n",
            "\n",
            "\n",
            "Train Epoch: 1 / 10:  10%|▉         | 3840/39665 [00:43<06:44, 88.46it/s]\u001b[A\u001b[A\u001b[A\n",
            "\n",
            "\n",
            "Train Epoch: 1 / 10:  10%|█         | 4096/39665 [00:46<06:37, 89.44it/s]\u001b[A\u001b[A\u001b[A\n",
            "\n",
            "\n",
            "Train Epoch: 1 / 10:  11%|█         | 4352/39665 [00:49<06:32, 89.97it/s]\u001b[A\u001b[A\u001b[A\n",
            "\n",
            "\n",
            "Train Epoch: 1 / 10:  12%|█▏        | 4608/39665 [00:51<06:28, 90.33it/s]\u001b[A\u001b[A\u001b[A\n",
            "\n",
            "\n",
            "Train Epoch: 1 / 10:  12%|█▏        | 4864/39665 [00:54<06:23, 90.71it/s]\u001b[A\u001b[A\u001b[A\n",
            "\n",
            "\n",
            "Train Epoch: 1 / 10:  13%|█▎        | 5120/39665 [00:57<06:29, 88.77it/s]\u001b[A\u001b[A\u001b[A\n",
            "\n",
            "\n",
            "Train Epoch: 1 / 10:  14%|█▎        | 5376/39665 [01:00<06:22, 89.68it/s]\u001b[A\u001b[A\u001b[A\n",
            "\n",
            "\n",
            "Train Epoch: 1 / 10:  14%|█▍        | 5632/39665 [01:03<06:16, 90.44it/s]\u001b[A\u001b[A\u001b[A\n",
            "\n",
            "\n",
            "Train Epoch: 1 / 10:  15%|█▍        | 5888/39665 [01:06<06:12, 90.80it/s]\u001b[A\u001b[A\u001b[A\n",
            "\n",
            "\n",
            "Train Epoch: 1 / 10:  15%|█▌        | 6144/39665 [01:08<06:07, 91.11it/s]\u001b[A\u001b[A\u001b[A\n",
            "\n",
            "\n",
            "Train Epoch: 1 / 10:  16%|█▌        | 6400/39665 [01:11<06:14, 88.83it/s]\u001b[A\u001b[A\u001b[A\n",
            "\n",
            "\n",
            "Train Epoch: 1 / 10:  17%|█▋        | 6656/39665 [01:14<06:08, 89.64it/s]\u001b[A\u001b[A\u001b[A\n",
            "\n",
            "\n",
            "Train Epoch: 1 / 10:  17%|█▋        | 6912/39665 [01:17<06:02, 90.32it/s]\u001b[A\u001b[A\u001b[A\n",
            "\n",
            "\n",
            "Train Epoch: 1 / 10:  18%|█▊        | 7168/39665 [01:20<05:57, 90.79it/s]\u001b[A\u001b[A\u001b[A\n",
            "\n",
            "\n",
            "Train Epoch: 1 / 10:  19%|█▊        | 7424/39665 [01:23<05:55, 90.75it/s]\u001b[A\u001b[A\u001b[A\n",
            "\n",
            "\n",
            "Train Epoch: 1 / 10:  19%|█▉        | 7680/39665 [01:26<05:58, 89.10it/s]\u001b[A\u001b[A\u001b[A\n",
            "\n",
            "\n",
            "Train Epoch: 1 / 10:  20%|██        | 7936/39665 [01:28<05:53, 89.83it/s]\u001b[A\u001b[A\u001b[A\n",
            "\n",
            "\n",
            "Train Epoch: 1 / 10:  21%|██        | 8192/39665 [01:31<05:47, 90.54it/s]\u001b[A\u001b[A\u001b[A\n",
            "\n",
            "\n",
            "Train Epoch: 1 / 10:  21%|██▏       | 8448/39665 [01:34<05:43, 90.81it/s]\u001b[A\u001b[A\u001b[A\n",
            "\n",
            "\n",
            "Train Epoch: 1 / 10:  22%|██▏       | 8704/39665 [01:37<05:39, 91.06it/s]\u001b[A\u001b[A\u001b[A\n",
            "\n",
            "\n",
            "Train Epoch: 1 / 10:  23%|██▎       | 8960/39665 [01:40<05:43, 89.32it/s]\u001b[A\u001b[A\u001b[A\n",
            "\n",
            "\n",
            "Train Epoch: 1 / 10:  23%|██▎       | 9216/39665 [01:43<05:38, 90.08it/s]\u001b[A\u001b[A\u001b[A\n",
            "\n",
            "\n",
            "Train Epoch: 1 / 10:  24%|██▍       | 9472/39665 [01:45<05:33, 90.44it/s]\u001b[A\u001b[A\u001b[A\n",
            "\n",
            "\n",
            "Train Epoch: 1 / 10:  25%|██▍       | 9728/39665 [01:48<05:29, 90.93it/s]\u001b[A\u001b[A\u001b[A\n",
            "\n",
            "\n",
            "Train Epoch: 1 / 10:  25%|██▌       | 9984/39665 [01:51<05:25, 91.10it/s]\u001b[A\u001b[A\u001b[A\n",
            "\n",
            "\n",
            "Train Epoch: 1 / 10:  26%|██▌       | 10240/39665 [01:54<05:30, 89.15it/s]\u001b[A\u001b[A\u001b[A\n",
            "\n",
            "\n",
            "Train Epoch: 1 / 10:  26%|██▋       | 10496/39665 [01:57<05:25, 89.73it/s]\u001b[A\u001b[A\u001b[A\n",
            "\n",
            "\n",
            "Validating:   0%|          | 0/9917 [59:03<?, ?it/s]\n",
            "Train Epoch: 8 / 10:  16%|█▌        | 6400/39665 [04:44<24:36, 22.53it/s]\n",
            "\n",
            "\n",
            "\n",
            "Train Epoch: 1 / 10:  28%|██▊       | 11008/39665 [02:03<05:26, 87.69it/s]\u001b[A\u001b[A\u001b[A\n",
            "\n",
            "\n",
            "Train Epoch: 1 / 10:  28%|██▊       | 11264/39665 [02:06<05:23, 87.90it/s]\u001b[A\u001b[A\u001b[A\n",
            "\n",
            "\n",
            "Train Epoch: 1 / 10:  29%|██▉       | 11520/39665 [02:09<05:23, 87.13it/s]\u001b[A\u001b[A\u001b[A\n",
            "\n",
            "\n",
            "Train Epoch: 1 / 10:  30%|██▉       | 11776/39665 [02:11<05:15, 88.43it/s]\u001b[A\u001b[A\u001b[A\n",
            "\n",
            "\n",
            "Train Epoch: 1 / 10:  30%|███       | 12032/39665 [02:14<05:09, 89.40it/s]\u001b[A\u001b[A\u001b[A\n",
            "\n",
            "\n",
            "Train Epoch: 1 / 10:  31%|███       | 12288/39665 [02:17<05:03, 90.23it/s]\u001b[A\u001b[A\u001b[A\n",
            "\n",
            "\n",
            "Train Epoch: 1 / 10:  32%|███▏      | 12544/39665 [02:20<05:04, 89.17it/s]\u001b[A\u001b[A\u001b[A\n",
            "\n",
            "\n",
            "Train Epoch: 1 / 10:  32%|███▏      | 12800/39665 [02:23<05:05, 87.98it/s]\u001b[A\u001b[A\u001b[A\n",
            "\n",
            "\n",
            "Train Epoch: 1 / 10:  33%|███▎      | 13056/39665 [02:26<04:58, 89.06it/s]\u001b[A\u001b[A\u001b[A\n",
            "\n",
            "\n",
            "Train Epoch: 1 / 10:  34%|███▎      | 13312/39665 [02:29<04:54, 89.51it/s]\u001b[A\u001b[A\u001b[A\n",
            "\n",
            "\n",
            "Train Epoch: 1 / 10:  34%|███▍      | 13568/39665 [02:31<04:49, 90.20it/s]\u001b[A\u001b[A\u001b[A\n",
            "\n",
            "\n",
            "Train Epoch: 1 / 10:  35%|███▍      | 13824/39665 [02:34<04:49, 89.18it/s]\u001b[A\u001b[A\u001b[A\n",
            "\n",
            "\n",
            "Train Epoch: 1 / 10:  35%|███▌      | 14080/39665 [02:37<04:51, 87.85it/s]\u001b[A\u001b[A\u001b[A\n",
            "\n",
            "\n",
            "Train Epoch: 1 / 10:  36%|███▌      | 14336/39665 [02:40<04:44, 89.00it/s]\u001b[A\u001b[A\u001b[A\n",
            "\n",
            "\n",
            "Train Epoch: 1 / 10:  37%|███▋      | 14592/39665 [02:43<04:38, 89.95it/s]\u001b[A\u001b[A\u001b[A\n",
            "\n",
            "\n",
            "Train Epoch: 1 / 10:  37%|███▋      | 14848/39665 [02:46<04:34, 90.45it/s]\u001b[A\u001b[A\u001b[A\n",
            "\n",
            "\n",
            "Train Epoch: 1 / 10:  38%|███▊      | 15104/39665 [02:49<04:33, 89.68it/s]\u001b[A\u001b[A\u001b[A\n",
            "\n",
            "\n",
            "Train Epoch: 1 / 10:  39%|███▊      | 15360/39665 [02:51<04:29, 90.23it/s]\u001b[A\u001b[A\u001b[A\n",
            "\n",
            "\n",
            "Train Epoch: 1 / 10:  39%|███▉      | 15616/39665 [02:54<04:24, 90.79it/s]\u001b[A\u001b[A\u001b[A\n",
            "\n",
            "\n",
            "Train Epoch: 1 / 10:  40%|████      | 15872/39665 [02:57<04:20, 91.24it/s]\u001b[A\u001b[A\u001b[A\n",
            "\n",
            "\n",
            "Train Epoch: 1 / 10:  41%|████      | 16128/39665 [03:00<04:17, 91.30it/s]\u001b[A\u001b[A\u001b[A\n",
            "\n",
            "\n",
            "Train Epoch: 1 / 10:  41%|████▏     | 16384/39665 [03:03<04:21, 89.20it/s]\u001b[A\u001b[A\u001b[A\n",
            "\n",
            "\n",
            "Train Epoch: 1 / 10:  42%|████▏     | 16640/39665 [03:05<04:16, 89.94it/s]\u001b[A\u001b[A\u001b[A\n",
            "\n",
            "\n",
            "Train Epoch: 1 / 10:  43%|████▎     | 16896/39665 [03:08<04:11, 90.53it/s]\u001b[A\u001b[A\u001b[A\n",
            "\n",
            "\n",
            "Train Epoch: 1 / 10:  43%|████▎     | 17152/39665 [03:11<04:07, 90.89it/s]\u001b[A\u001b[A\u001b[A\n",
            "\n",
            "\n",
            "Train Epoch: 1 / 10:  44%|████▍     | 17408/39665 [03:14<04:04, 91.17it/s]\u001b[A\u001b[A\u001b[A\n",
            "\n",
            "\n",
            "Train Epoch: 1 / 10:  45%|████▍     | 17664/39665 [03:17<04:06, 89.35it/s]\u001b[A\u001b[A\u001b[A\n",
            "\n",
            "\n",
            "Train Epoch: 1 / 10:  45%|████▌     | 17920/39665 [03:20<04:01, 90.08it/s]\u001b[A\u001b[A\u001b[A\n",
            "\n",
            "\n",
            "Train Epoch: 1 / 10:  46%|████▌     | 18176/39665 [03:22<03:57, 90.65it/s]\u001b[A\u001b[A\u001b[A\n",
            "\n",
            "\n",
            "Train Epoch: 1 / 10:  46%|████▋     | 18432/39665 [03:25<03:53, 90.95it/s]\u001b[A\u001b[A\u001b[A\n",
            "\n",
            "\n",
            "Train Epoch: 1 / 10:  47%|████▋     | 18688/39665 [03:28<03:50, 91.10it/s]\u001b[A\u001b[A\u001b[A\n",
            "\n",
            "\n",
            "Train Epoch: 1 / 10:  48%|████▊     | 18944/39665 [03:31<03:52, 88.97it/s]\u001b[A\u001b[A\u001b[A\n",
            "\n",
            "\n",
            "Train Epoch: 1 / 10:  48%|████▊     | 19200/39665 [03:34<03:47, 89.90it/s]\u001b[A\u001b[A\u001b[A\n",
            "\n",
            "\n",
            "Train Epoch: 1 / 10:  49%|████▉     | 19456/39665 [03:37<03:43, 90.50it/s]\u001b[A\u001b[A\u001b[A\n",
            "\n",
            "\n",
            "Train Epoch: 1 / 10:  50%|████▉     | 19712/39665 [03:39<03:39, 90.79it/s]\u001b[A\u001b[A\u001b[A\n",
            "\n",
            "\n",
            "Train Epoch: 1 / 10:  50%|█████     | 19968/39665 [03:42<03:37, 90.47it/s]\u001b[A\u001b[A\u001b[A\n",
            "\n",
            "\n",
            "Train Epoch: 1 / 10:  51%|█████     | 20224/39665 [03:45<03:38, 88.81it/s]\u001b[A\u001b[A\u001b[A\n",
            "\n",
            "\n",
            "Train Epoch: 1 / 10:  52%|█████▏    | 20480/39665 [03:48<03:34, 89.59it/s]\u001b[A\u001b[A\u001b[A\n",
            "\n",
            "\n",
            "Train Epoch: 1 / 10:  52%|█████▏    | 20736/39665 [03:51<03:29, 90.28it/s]\u001b[A\u001b[A\u001b[A\n",
            "\n",
            "\n",
            "Train Epoch: 1 / 10:  53%|█████▎    | 20992/39665 [03:54<03:25, 90.85it/s]\u001b[A\u001b[A\u001b[A\n",
            "\n",
            "\n",
            "Train Epoch: 1 / 10:  54%|█████▎    | 21248/39665 [03:56<03:22, 91.09it/s]\u001b[A\u001b[A\u001b[A\n",
            "\n",
            "\n",
            "Train Epoch: 1 / 10:  54%|█████▍    | 21504/39665 [03:59<03:23, 89.20it/s]\u001b[A\u001b[A\u001b[A\n",
            "\n",
            "\n",
            "Train Epoch: 1 / 10:  55%|█████▍    | 21760/39665 [04:02<03:18, 90.08it/s]\u001b[A\u001b[A\u001b[A\n",
            "\n",
            "\n",
            "Train Epoch: 1 / 10:  56%|█████▌    | 22016/39665 [04:05<03:14, 90.66it/s]\u001b[A\u001b[A\u001b[A\n",
            "\n",
            "\n",
            "Train Epoch: 1 / 10:  56%|█████▌    | 22272/39665 [04:08<03:11, 90.93it/s]\u001b[A\u001b[A\u001b[A\n",
            "\n",
            "\n",
            "Train Epoch: 1 / 10:  57%|█████▋    | 22528/39665 [04:11<03:10, 89.99it/s]\u001b[A\u001b[A\u001b[A\n",
            "\n",
            "\n",
            "Train Epoch: 1 / 10:  57%|█████▋    | 22784/39665 [04:14<03:10, 88.54it/s]\u001b[A\u001b[A\u001b[A\n",
            "\n",
            "\n",
            "Train Epoch: 1 / 10:  58%|█████▊    | 23040/39665 [04:16<03:05, 89.48it/s]\u001b[A\u001b[A\u001b[A\n",
            "\n",
            "\n",
            "Train Epoch: 1 / 10:  59%|█████▊    | 23296/39665 [04:19<03:01, 90.07it/s]\u001b[A\u001b[A\u001b[A\n",
            "\n",
            "\n",
            "Train Epoch: 1 / 10:  59%|█████▉    | 23552/39665 [04:22<03:03, 87.91it/s]\u001b[A\u001b[A\u001b[A\n",
            "\n",
            "\n",
            "Train Epoch: 1 / 10:  60%|██████    | 23808/39665 [04:25<03:01, 87.30it/s]\u001b[A\u001b[A\u001b[A\n",
            "\n",
            "\n",
            "Train Epoch: 1 / 10:  61%|██████    | 24064/39665 [04:28<03:00, 86.30it/s]\u001b[A\u001b[A\u001b[A\n",
            "\n",
            "\n",
            "Train Epoch: 1 / 10:  61%|██████▏   | 24320/39665 [04:31<02:55, 87.55it/s]\u001b[A\u001b[A\u001b[A\n",
            "\n",
            "\n",
            "Train Epoch: 1 / 10:  62%|██████▏   | 24576/39665 [04:34<02:49, 88.82it/s]\u001b[A\u001b[A\u001b[A\n",
            "\n",
            "\n",
            "Train Epoch: 1 / 10:  63%|██████▎   | 24832/39665 [04:37<02:45, 89.66it/s]\u001b[A\u001b[A\u001b[A\n",
            "\n",
            "\n",
            "Train Epoch: 1 / 10:  63%|██████▎   | 25088/39665 [04:40<02:43, 89.07it/s]\u001b[A\u001b[A\u001b[A\n",
            "\n",
            "\n",
            "Train Epoch: 1 / 10:  64%|██████▍   | 25344/39665 [04:43<02:43, 87.67it/s]\u001b[A\u001b[A\u001b[A\n",
            "\n",
            "\n",
            "Train Epoch: 1 / 10:  65%|██████▍   | 25600/39665 [04:46<02:38, 88.83it/s]\u001b[A\u001b[A\u001b[A\n",
            "\n",
            "\n",
            "Train Epoch: 1 / 10:  65%|██████▌   | 25856/39665 [04:48<02:33, 89.80it/s]\u001b[A\u001b[A\u001b[A\n",
            "\n",
            "\n",
            "Train Epoch: 1 / 10:  66%|██████▌   | 26112/39665 [04:51<02:30, 90.34it/s]\u001b[A\u001b[A\u001b[A\n",
            "\n",
            "\n",
            "Train Epoch: 1 / 10:  66%|██████▋   | 26368/39665 [04:54<02:28, 89.63it/s]\u001b[A\u001b[A\u001b[A\n",
            "\n",
            "\n",
            "Train Epoch: 1 / 10:  67%|██████▋   | 26624/39665 [04:57<02:27, 88.36it/s]\u001b[A\u001b[A\u001b[A\n",
            "\n",
            "\n",
            "Train Epoch: 1 / 10:  68%|██████▊   | 26880/39665 [05:00<02:22, 89.53it/s]\u001b[A\u001b[A\u001b[A\n",
            "\n",
            "\n",
            "Train Epoch: 1 / 10:  68%|██████▊   | 27136/39665 [05:03<02:18, 90.22it/s]\u001b[A\u001b[A\u001b[A\n",
            "\n",
            "\n",
            "Train Epoch: 1 / 10:  69%|██████▉   | 27392/39665 [05:05<02:15, 90.54it/s]\u001b[A\u001b[A\u001b[A\n",
            "\n",
            "\n",
            "Train Epoch: 1 / 10:  70%|██████▉   | 27648/39665 [05:08<02:14, 89.64it/s]\u001b[A\u001b[A\u001b[A\n",
            "\n",
            "\n",
            "Train Epoch: 1 / 10:  70%|███████   | 27904/39665 [05:11<02:13, 88.12it/s]\u001b[A\u001b[A\u001b[A\n",
            "\n",
            "\n",
            "Train Epoch: 1 / 10:  71%|███████   | 28160/39665 [05:14<02:08, 89.30it/s]\u001b[A\u001b[A\u001b[A\n",
            "\n",
            "\n",
            "Train Epoch: 1 / 10:  72%|███████▏  | 28416/39665 [05:17<02:04, 90.10it/s]\u001b[A\u001b[A\u001b[A\n",
            "\n",
            "\n",
            "Train Epoch: 1 / 10:  72%|███████▏  | 28672/39665 [05:20<02:01, 90.62it/s]\u001b[A\u001b[A\u001b[A\n",
            "\n",
            "\n",
            "Train Epoch: 1 / 10:  73%|███████▎  | 28928/39665 [05:23<01:59, 89.70it/s]\u001b[A\u001b[A\u001b[A\n",
            "\n",
            "\n",
            "Train Epoch: 1 / 10:  74%|███████▎  | 29184/39665 [05:25<01:57, 89.34it/s]\u001b[A\u001b[A\u001b[A\n",
            "\n",
            "\n",
            "Train Epoch: 1 / 10:  74%|███████▍  | 29440/39665 [05:28<01:53, 89.76it/s]\u001b[A\u001b[A\u001b[A\n",
            "\n",
            "\n",
            "Train Epoch: 1 / 10:  75%|███████▍  | 29696/39665 [05:31<01:50, 90.44it/s]\u001b[A\u001b[A\u001b[A\n",
            "\n",
            "\n",
            "Train Epoch: 1 / 10:  76%|███████▌  | 29952/39665 [05:34<01:46, 90.95it/s]\u001b[A\u001b[A\u001b[A\n",
            "\n",
            "\n",
            "Train Epoch: 1 / 10:  76%|███████▌  | 30208/39665 [05:37<01:45, 89.54it/s]\u001b[A\u001b[A\u001b[A\n",
            "\n",
            "\n",
            "Train Epoch: 1 / 10:  77%|███████▋  | 30464/39665 [05:40<01:43, 89.13it/s]\u001b[A\u001b[A\u001b[A\n",
            "\n",
            "\n",
            "Train Epoch: 1 / 10:  77%|███████▋  | 30720/39665 [05:43<01:39, 89.87it/s]\u001b[A\u001b[A\u001b[A\n",
            "\n",
            "\n",
            "Train Epoch: 1 / 10:  78%|███████▊  | 30976/39665 [05:45<01:35, 90.52it/s]\u001b[A\u001b[A\u001b[A\n",
            "\n",
            "\n",
            "Train Epoch: 1 / 10:  79%|███████▊  | 31232/39665 [05:48<01:32, 90.96it/s]\u001b[A\u001b[A\u001b[A\n",
            "\n",
            "\n",
            "Train Epoch: 1 / 10:  79%|███████▉  | 31488/39665 [05:51<01:31, 89.70it/s]\u001b[A\u001b[A\u001b[A\n",
            "\n",
            "\n",
            "Train Epoch: 1 / 10:  80%|████████  | 31744/39665 [05:54<01:28, 89.11it/s]\u001b[A\u001b[A\u001b[A\n",
            "\n",
            "\n",
            "Train Epoch: 1 / 10:  81%|████████  | 32000/39665 [05:57<01:25, 89.95it/s]\u001b[A\u001b[A\u001b[A\n",
            "\n",
            "\n",
            "Train Epoch: 1 / 10:  81%|████████▏ | 32256/39665 [06:00<01:22, 90.18it/s]\u001b[A\u001b[A\u001b[A\n",
            "\n",
            "\n",
            "Train Epoch: 1 / 10:  82%|████████▏ | 32512/39665 [06:02<01:19, 90.54it/s]\u001b[A\u001b[A\u001b[A\n",
            "\n",
            "\n",
            "Train Epoch: 1 / 10:  83%|████████▎ | 32768/39665 [06:05<01:17, 89.00it/s]\u001b[A\u001b[A\u001b[A\n",
            "\n",
            "\n",
            "Train Epoch: 1 / 10:  83%|████████▎ | 33024/39665 [06:08<01:14, 89.11it/s]\u001b[A\u001b[A\u001b[A\n",
            "\n",
            "\n",
            "Train Epoch: 1 / 10:  84%|████████▍ | 33280/39665 [06:11<01:10, 89.98it/s]\u001b[A\u001b[A\u001b[A\n",
            "\n",
            "\n",
            "Train Epoch: 1 / 10:  85%|████████▍ | 33536/39665 [06:14<01:07, 90.60it/s]\u001b[A\u001b[A\u001b[A\n",
            "\n",
            "\n",
            "Train Epoch: 1 / 10:  85%|████████▌ | 33792/39665 [06:17<01:04, 90.68it/s]\u001b[A\u001b[A\u001b[A\n",
            "\n",
            "\n",
            "Train Epoch: 1 / 10:  86%|████████▌ | 34048/39665 [06:20<01:03, 89.10it/s]\u001b[A\u001b[A\u001b[A\n",
            "\n",
            "\n",
            "Train Epoch: 1 / 10:  86%|████████▋ | 34304/39665 [06:22<01:00, 88.99it/s]\u001b[A\u001b[A\u001b[A\n",
            "\n",
            "\n",
            "Train Epoch: 1 / 10:  87%|████████▋ | 34560/39665 [06:25<00:56, 90.01it/s]\u001b[A\u001b[A\u001b[A\n",
            "\n",
            "\n",
            "Train Epoch: 1 / 10:  88%|████████▊ | 34816/39665 [06:28<00:53, 90.59it/s]\u001b[A\u001b[A\u001b[A\n",
            "\n",
            "\n",
            "Train Epoch: 1 / 10:  88%|████████▊ | 35072/39665 [06:31<00:50, 91.02it/s]\u001b[A\u001b[A\u001b[A\n",
            "\n",
            "\n",
            "Train Epoch: 1 / 10:  89%|████████▉ | 35328/39665 [06:34<00:48, 89.63it/s]\u001b[A\u001b[A\u001b[A\n",
            "\n",
            "\n",
            "Train Epoch: 1 / 10:  90%|████████▉ | 35584/39665 [06:37<00:45, 90.36it/s]\u001b[A\u001b[A\u001b[A\n",
            "\n",
            "\n",
            "Train Epoch: 1 / 10:  90%|█████████ | 35840/39665 [06:39<00:42, 90.67it/s]\u001b[A\u001b[A\u001b[A\n",
            "\n",
            "\n",
            "Train Epoch: 1 / 10:  91%|█████████ | 36096/39665 [06:42<00:39, 91.08it/s]\u001b[A\u001b[A\u001b[A\n",
            "\n",
            "\n",
            "Train Epoch: 1 / 10:  92%|█████████▏| 36352/39665 [06:45<00:36, 91.32it/s]\u001b[A\u001b[A\u001b[A\n",
            "\n",
            "\n",
            "Train Epoch: 1 / 10:  92%|█████████▏| 36608/39665 [06:48<00:34, 89.25it/s]\u001b[A\u001b[A\u001b[A\n",
            "\n",
            "\n",
            "Train Epoch: 1 / 10:  93%|█████████▎| 36864/39665 [06:51<00:31, 89.93it/s]\u001b[A\u001b[A\u001b[A\n",
            "\n",
            "\n",
            "Train Epoch: 1 / 10:  94%|█████████▎| 37120/39665 [06:53<00:28, 90.55it/s]\u001b[A\u001b[A\u001b[A\n",
            "\n",
            "\n",
            "Train Epoch: 1 / 10:  94%|█████████▍| 37376/39665 [06:56<00:25, 91.02it/s]\u001b[A\u001b[A\u001b[A\n",
            "\n",
            "\n",
            "Train Epoch: 1 / 10:  95%|█████████▍| 37632/39665 [06:59<00:22, 91.21it/s]\u001b[A\u001b[A\u001b[A\n",
            "\n",
            "\n",
            "Train Epoch: 1 / 10:  96%|█████████▌| 37888/39665 [07:02<00:19, 88.96it/s]\u001b[A\u001b[A\u001b[A\n",
            "\n",
            "\n",
            "Train Epoch: 1 / 10:  96%|█████████▌| 38144/39665 [07:05<00:17, 87.31it/s]\u001b[A\u001b[A\u001b[A\n",
            "\n",
            "\n",
            "Train Epoch: 1 / 10:  97%|█████████▋| 38400/39665 [07:08<00:14, 88.74it/s]\u001b[A\u001b[A\u001b[A\n",
            "\n",
            "\n",
            "Train Epoch: 1 / 10:  97%|█████████▋| 38656/39665 [07:11<00:11, 89.69it/s]\u001b[A\u001b[A\u001b[A\n",
            "\n",
            "\n",
            "Train Epoch: 1 / 10:  98%|█████████▊| 38912/39665 [07:14<00:08, 89.95it/s]\u001b[A\u001b[A\u001b[A\n",
            "\n",
            "\n",
            "Train Epoch: 1 / 10:  99%|█████████▊| 39168/39665 [07:17<00:05, 88.51it/s]\u001b[A\u001b[A\u001b[A\n",
            "\n",
            "\n",
            "Train Epoch: 1 / 10:  99%|█████████▉| 39424/39665 [07:19<00:02, 89.63it/s]\n"
          ]
        },
        {
          "output_type": "stream",
          "name": "stdout",
          "text": [
            "Train Loss: 0.6879\n",
            "Train Accuracy: 53.51%\n"
          ]
        },
        {
          "output_type": "stream",
          "name": "stderr",
          "text": [
            "Validating:  98%|█████████▊| 9728/9917 [00:13<00:00, 718.91it/s]\n"
          ]
        },
        {
          "output_type": "stream",
          "name": "stdout",
          "text": [
            "Val Loss: 0.6929\n",
            "Val Accuracy: 48.18%\n"
          ]
        },
        {
          "output_type": "stream",
          "name": "stderr",
          "text": [
            "Train Epoch: 2 / 10:  99%|█████████▉| 39424/39665 [07:17<00:02, 90.12it/s]\n"
          ]
        },
        {
          "output_type": "stream",
          "name": "stdout",
          "text": [
            "Train Loss: 0.6822\n",
            "Train Accuracy: 55.67%\n"
          ]
        },
        {
          "output_type": "stream",
          "name": "stderr",
          "text": [
            "Validating:  98%|█████████▊| 9728/9917 [00:13<00:00, 735.23it/s]\n"
          ]
        },
        {
          "output_type": "stream",
          "name": "stdout",
          "text": [
            "Val Loss: 0.6879\n",
            "Val Accuracy: 53.29%\n"
          ]
        },
        {
          "output_type": "stream",
          "name": "stderr",
          "text": [
            "Train Epoch: 3 / 10:  99%|█████████▉| 39424/39665 [07:17<00:02, 90.11it/s]\n"
          ]
        },
        {
          "output_type": "stream",
          "name": "stdout",
          "text": [
            "Train Loss: 0.6520\n",
            "Train Accuracy: 60.74%\n"
          ]
        },
        {
          "output_type": "stream",
          "name": "stderr",
          "text": [
            "Validating:  98%|█████████▊| 9728/9917 [00:13<00:00, 741.64it/s]\n"
          ]
        },
        {
          "output_type": "stream",
          "name": "stdout",
          "text": [
            "Val Loss: 0.5745\n",
            "Val Accuracy: 69.20%\n"
          ]
        },
        {
          "output_type": "stream",
          "name": "stderr",
          "text": [
            "Train Epoch: 4 / 10:  99%|█████████▉| 39424/39665 [07:18<00:02, 89.95it/s]\n"
          ]
        },
        {
          "output_type": "stream",
          "name": "stdout",
          "text": [
            "Train Loss: 0.6795\n",
            "Train Accuracy: 53.74%\n"
          ]
        },
        {
          "output_type": "stream",
          "name": "stderr",
          "text": [
            "Validating:  98%|█████████▊| 9728/9917 [00:13<00:00, 744.79it/s]\n"
          ]
        },
        {
          "output_type": "stream",
          "name": "stdout",
          "text": [
            "Val Loss: 0.6915\n",
            "Val Accuracy: 52.72%\n"
          ]
        },
        {
          "output_type": "stream",
          "name": "stderr",
          "text": [
            "Train Epoch: 5 / 10:  99%|█████████▉| 39424/39665 [07:17<00:02, 90.04it/s]\n"
          ]
        },
        {
          "output_type": "stream",
          "name": "stdout",
          "text": [
            "Train Loss: 0.5897\n",
            "Train Accuracy: 67.14%\n"
          ]
        },
        {
          "output_type": "stream",
          "name": "stderr",
          "text": [
            "Validating:  98%|█████████▊| 9728/9917 [00:13<00:00, 736.34it/s]\n"
          ]
        },
        {
          "output_type": "stream",
          "name": "stdout",
          "text": [
            "Val Loss: 0.5143\n",
            "Val Accuracy: 73.21%\n"
          ]
        },
        {
          "output_type": "stream",
          "name": "stderr",
          "text": [
            "Train Epoch: 6 / 10:  99%|█████████▉| 39424/39665 [07:17<00:02, 90.17it/s]\n"
          ]
        },
        {
          "output_type": "stream",
          "name": "stdout",
          "text": [
            "Train Loss: 0.4779\n",
            "Train Accuracy: 77.04%\n"
          ]
        },
        {
          "output_type": "stream",
          "name": "stderr",
          "text": [
            "Validating:  98%|█████████▊| 9728/9917 [00:13<00:00, 731.37it/s]\n"
          ]
        },
        {
          "output_type": "stream",
          "name": "stdout",
          "text": [
            "Val Loss: 0.5418\n",
            "Val Accuracy: 72.53%\n"
          ]
        },
        {
          "output_type": "stream",
          "name": "stderr",
          "text": [
            "Train Epoch: 7 / 10:  99%|█████████▉| 39424/39665 [07:16<00:02, 90.24it/s]\n"
          ]
        },
        {
          "output_type": "stream",
          "name": "stdout",
          "text": [
            "Train Loss: 0.4289\n",
            "Train Accuracy: 80.68%\n"
          ]
        },
        {
          "output_type": "stream",
          "name": "stderr",
          "text": [
            "Validating:  98%|█████████▊| 9728/9917 [00:13<00:00, 721.80it/s]\n"
          ]
        },
        {
          "output_type": "stream",
          "name": "stdout",
          "text": [
            "Val Loss: 0.4206\n",
            "Val Accuracy: 80.87%\n"
          ]
        },
        {
          "output_type": "stream",
          "name": "stderr",
          "text": [
            "Train Epoch: 8 / 10:  99%|█████████▉| 39424/39665 [07:17<00:02, 90.11it/s]\n"
          ]
        },
        {
          "output_type": "stream",
          "name": "stdout",
          "text": [
            "Train Loss: 0.3429\n",
            "Train Accuracy: 85.21%\n"
          ]
        },
        {
          "output_type": "stream",
          "name": "stderr",
          "text": [
            "Validating:  98%|█████████▊| 9728/9917 [00:13<00:00, 731.76it/s]\n"
          ]
        },
        {
          "output_type": "stream",
          "name": "stdout",
          "text": [
            "Val Loss: 0.3719\n",
            "Val Accuracy: 82.90%\n"
          ]
        },
        {
          "output_type": "stream",
          "name": "stderr",
          "text": [
            "Train Epoch: 9 / 10:  99%|█████████▉| 39424/39665 [07:18<00:02, 89.99it/s]\n"
          ]
        },
        {
          "output_type": "stream",
          "name": "stdout",
          "text": [
            "Train Loss: 0.3139\n",
            "Train Accuracy: 86.53%\n"
          ]
        },
        {
          "output_type": "stream",
          "name": "stderr",
          "text": [
            "Validating:  98%|█████████▊| 9728/9917 [00:13<00:00, 728.96it/s]\n"
          ]
        },
        {
          "output_type": "stream",
          "name": "stdout",
          "text": [
            "Val Loss: 0.3520\n",
            "Val Accuracy: 83.49%\n"
          ]
        },
        {
          "output_type": "stream",
          "name": "stderr",
          "text": [
            "Train Epoch: 10 / 10:  99%|█████████▉| 39424/39665 [07:18<00:02, 89.95it/s]\n"
          ]
        },
        {
          "output_type": "stream",
          "name": "stdout",
          "text": [
            "Train Loss: 0.2683\n",
            "Train Accuracy: 88.79%\n"
          ]
        },
        {
          "output_type": "stream",
          "name": "stderr",
          "text": [
            "Validating:  98%|█████████▊| 9728/9917 [00:13<00:00, 717.32it/s]"
          ]
        },
        {
          "output_type": "stream",
          "name": "stdout",
          "text": [
            "Val Loss: 0.3662\n",
            "Val Accuracy: 83.38%\n"
          ]
        },
        {
          "output_type": "stream",
          "name": "stderr",
          "text": [
            "\n"
          ]
        }
      ]
    },
    {
      "cell_type": "markdown",
      "source": [
        "# Testing"
      ],
      "metadata": {
        "id": "pv3-tV1iQxkg"
      }
    },
    {
      "cell_type": "code",
      "source": [
        "device = torch.device('cuda' if torch.cuda.is_available() else 'cpu')\n",
        "model = GRU(200,128, 103343)\n",
        "# model = LSTM(200,256, 103343) #For LSTM\n",
        "model.load_state_dict(torch.load('/content/model_epoch_5.pth')) # Enter Model's path\n",
        "model.to(device)"
      ],
      "metadata": {
        "colab": {
          "base_uri": "https://localhost:8080/"
        },
        "id": "RGvdWH8UPf7I",
        "outputId": "6885f5ab-a3e9-4b2c-88e5-f0d200759b98"
      },
      "execution_count": null,
      "outputs": [
        {
          "output_type": "execute_result",
          "data": {
            "text/plain": [
              "GRU(\n",
              "  (embedding): Embedding(103343, 200)\n",
              "  (W_x): Linear(in_features=200, out_features=384, bias=True)\n",
              "  (W_h): Linear(in_features=128, out_features=384, bias=True)\n",
              "  (output_layer): Linear(in_features=128, out_features=1, bias=True)\n",
              "  (Sigmoid): Sigmoid()\n",
              "  (Tanh): Tanh()\n",
              ")"
            ]
          },
          "metadata": {},
          "execution_count": 60
        }
      ]
    },
    {
      "cell_type": "code",
      "source": [
        "inp = input(\"Enter review: \")\n",
        "inp = tokenizer.texts_to_sequences([inp])\n",
        "inp = pad_sequences(inp, maxlen=200, padding='pre')\n",
        "inp = torch.tensor(inp).to(device)\n",
        "output = model(inp)\n",
        "output_probs = torch.sigmoid(output)\n",
        "predicted = (output_probs > 0.5).float()\n",
        "print(output_probs)\n",
        "if predicted == 1:\n",
        "    print(\"Positive\")\n",
        "else:\n",
        "    print(\"Negative\")"
      ],
      "metadata": {
        "colab": {
          "base_uri": "https://localhost:8080/"
        },
        "id": "tXWof9JKPl20",
        "outputId": "8909f38e-c7a0-483f-ed32-5656928743a6"
      },
      "execution_count": null,
      "outputs": [
        {
          "output_type": "stream",
          "name": "stdout",
          "text": [
            "Enter review: Intro was good, but movie was below average, i would say a waste of money\n",
            "tensor([[0.0101]], device='cuda:0', grad_fn=<SigmoidBackward0>)\n",
            "Negative\n"
          ]
        }
      ]
    },
    {
      "cell_type": "code",
      "source": [],
      "metadata": {
        "id": "Kw-4XAS81QPM"
      },
      "execution_count": null,
      "outputs": []
    }
  ],
  "metadata": {
    "colab": {
      "provenance": [],
      "gpuType": "T4"
    },
    "kernelspec": {
      "display_name": "Python 3",
      "name": "python3"
    },
    "language_info": {
      "codemirror_mode": {
        "name": "ipython",
        "version": 3
      },
      "file_extension": ".py",
      "mimetype": "text/x-python",
      "name": "python",
      "nbconvert_exporter": "python",
      "pygments_lexer": "ipython3",
      "version": "3.8.3"
    },
    "accelerator": "GPU"
  },
  "nbformat": 4,
  "nbformat_minor": 0
}